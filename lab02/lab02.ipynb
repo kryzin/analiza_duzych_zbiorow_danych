{
 "cells": [
  {
   "cell_type": "markdown",
   "metadata": {},
   "source": [
    "**Zadanie 1**  \n",
    "Wczytaj plik `zamowienia.csv` do ramki pandas, a następnie w kilku miejscach (ale nie w pierwszych 10 wierszach) wstaw wartość NaN, aby zasymulować wartości brakujące. Zapisz ramkę do pliku `zamowienia_missing.csv`. Wczytaj teraz plik do ramki Dask i sprawdź jakie typy danych zostały przydzielone. Czy zgadzają się z typami z oryginalnego pliku? Wykonaj dowolne obliczenia na całej ramce Dask, aby wymusić wywołanie `.compute()`. Czy pojawił się błąd dotyczący niespójności typów danych? Spróbuj uruchomić kilka razy funkcję wczytywania danych do ramki Dask dataframe z różnymi wartościami parametru `samples`. Dokumentacja `dask.dataframe.read_csv()`: [https://docs.dask.org/en/stable/generated/dask.dataframe.read_csv.html](https://docs.dask.org/en/stable/generated/dask.dataframe.read_csv.html)"
   ]
  },
  {
   "cell_type": "code",
   "execution_count": 1,
   "metadata": {},
   "outputs": [],
   "source": [
    "import pandas as pd\n",
    "import numpy as np\n",
    "\n",
    "zamowienia = pd.read_csv('zamowienia.csv')\n",
    "# zamowienia.to_csv('zamowienia_missing.csv', index=False)"
   ]
  },
  {
   "cell_type": "code",
   "execution_count": 2,
   "metadata": {},
   "outputs": [
    {
     "name": "stdout",
     "output_type": "stream",
     "text": [
      "Kraj               string[pyarrow]\n",
      "Sprzedawca         string[pyarrow]\n",
      "Data zamowienia    string[pyarrow]\n",
      "idZamowienia               float64\n",
      "Utarg                      float64\n",
      "dtype: object\n"
     ]
    },
    {
     "data": {
      "text/html": [
       "<div>\n",
       "<style scoped>\n",
       "    .dataframe tbody tr th:only-of-type {\n",
       "        vertical-align: middle;\n",
       "    }\n",
       "\n",
       "    .dataframe tbody tr th {\n",
       "        vertical-align: top;\n",
       "    }\n",
       "\n",
       "    .dataframe thead th {\n",
       "        text-align: right;\n",
       "    }\n",
       "</style>\n",
       "<table border=\"1\" class=\"dataframe\">\n",
       "  <thead>\n",
       "    <tr style=\"text-align: right;\">\n",
       "      <th></th>\n",
       "      <th>Kraj</th>\n",
       "      <th>Sprzedawca</th>\n",
       "      <th>Data zamowienia</th>\n",
       "      <th>idZamowienia</th>\n",
       "      <th>Utarg</th>\n",
       "    </tr>\n",
       "  </thead>\n",
       "  <tbody>\n",
       "    <tr>\n",
       "      <th>0</th>\n",
       "      <td>Polska</td>\n",
       "      <td>Kowalski</td>\n",
       "      <td>2003-07-16</td>\n",
       "      <td>10248.0</td>\n",
       "      <td>440.00</td>\n",
       "    </tr>\n",
       "    <tr>\n",
       "      <th>1</th>\n",
       "      <td>Polska</td>\n",
       "      <td>Sowiński</td>\n",
       "      <td>2003-07-10</td>\n",
       "      <td>10249.0</td>\n",
       "      <td>1863.40</td>\n",
       "    </tr>\n",
       "    <tr>\n",
       "      <th>2</th>\n",
       "      <td>Niemcy</td>\n",
       "      <td>Peacock</td>\n",
       "      <td>2003-07-12</td>\n",
       "      <td>10250.0</td>\n",
       "      <td>1552.60</td>\n",
       "    </tr>\n",
       "    <tr>\n",
       "      <th>3</th>\n",
       "      <td>Niemcy</td>\n",
       "      <td>Leverling</td>\n",
       "      <td>2003-07-15</td>\n",
       "      <td>10251.0</td>\n",
       "      <td>654.06</td>\n",
       "    </tr>\n",
       "    <tr>\n",
       "      <th>4</th>\n",
       "      <td>Niemcy</td>\n",
       "      <td>Peacock</td>\n",
       "      <td>2003-07-11</td>\n",
       "      <td>10252.0</td>\n",
       "      <td>3597.90</td>\n",
       "    </tr>\n",
       "    <tr>\n",
       "      <th>...</th>\n",
       "      <td>...</td>\n",
       "      <td>...</td>\n",
       "      <td>...</td>\n",
       "      <td>...</td>\n",
       "      <td>...</td>\n",
       "    </tr>\n",
       "    <tr>\n",
       "      <th>794</th>\n",
       "      <td>Polska</td>\n",
       "      <td>King</td>\n",
       "      <td>2005-04-30</td>\n",
       "      <td>11048.0</td>\n",
       "      <td>525.00</td>\n",
       "    </tr>\n",
       "    <tr>\n",
       "      <th>795</th>\n",
       "      <td>Niemcy</td>\n",
       "      <td>Leverling</td>\n",
       "      <td>2005-05-01</td>\n",
       "      <td>11052.0</td>\n",
       "      <td>1332.00</td>\n",
       "    </tr>\n",
       "    <tr>\n",
       "      <th>796</th>\n",
       "      <td>Niemcy</td>\n",
       "      <td>Fuller</td>\n",
       "      <td>2005-04-29</td>\n",
       "      <td>11053.0</td>\n",
       "      <td>3055.00</td>\n",
       "    </tr>\n",
       "    <tr>\n",
       "      <th>797</th>\n",
       "      <td>Niemcy</td>\n",
       "      <td>Callahan</td>\n",
       "      <td>2005-05-01</td>\n",
       "      <td>11056.0</td>\n",
       "      <td>3740.00</td>\n",
       "    </tr>\n",
       "    <tr>\n",
       "      <th>798</th>\n",
       "      <td>Niemcy</td>\n",
       "      <td>Leverling</td>\n",
       "      <td>2005-05-01</td>\n",
       "      <td>11057.0</td>\n",
       "      <td>45.00</td>\n",
       "    </tr>\n",
       "  </tbody>\n",
       "</table>\n",
       "<p>799 rows × 5 columns</p>\n",
       "</div>"
      ],
      "text/plain": [
       "       Kraj Sprzedawca Data zamowienia  idZamowienia    Utarg\n",
       "0    Polska   Kowalski      2003-07-16       10248.0   440.00\n",
       "1    Polska   Sowiński      2003-07-10       10249.0  1863.40\n",
       "2    Niemcy    Peacock      2003-07-12       10250.0  1552.60\n",
       "3    Niemcy  Leverling      2003-07-15       10251.0   654.06\n",
       "4    Niemcy    Peacock      2003-07-11       10252.0  3597.90\n",
       "..      ...        ...             ...           ...      ...\n",
       "794  Polska       King      2005-04-30       11048.0   525.00\n",
       "795  Niemcy  Leverling      2005-05-01       11052.0  1332.00\n",
       "796  Niemcy     Fuller      2005-04-29       11053.0  3055.00\n",
       "797  Niemcy   Callahan      2005-05-01       11056.0  3740.00\n",
       "798  Niemcy  Leverling      2005-05-01       11057.0    45.00\n",
       "\n",
       "[799 rows x 5 columns]"
      ]
     },
     "execution_count": 2,
     "metadata": {},
     "output_type": "execute_result"
    }
   ],
   "source": [
    "import dask.dataframe as dd\n",
    "\n",
    "ddf = dd.read_csv('zamowienia_missing.csv', sep=';', assume_missing=True)\n",
    "# ddf = dd.read_csv('zamowienia_missing.csv', sep=';')\n",
    "print(ddf.dtypes)\n",
    "ddf.compute()"
   ]
  },
  {
   "cell_type": "code",
   "execution_count": 3,
   "metadata": {},
   "outputs": [
    {
     "data": {
      "text/plain": [
       "np.float64(332496.70999999996)"
      ]
     },
     "execution_count": 3,
     "metadata": {},
     "output_type": "execute_result"
    }
   ],
   "source": [
    "ddf[ddf['Kraj'] == 'Polska']['Utarg'].sum().compute()"
   ]
  },
  {
   "cell_type": "markdown",
   "metadata": {},
   "source": [
    "Samo `.compute()` podaje błąd ze względu na brakujące wartości (jeśli nie podamy `assume_missing=True`), w kolumnie `'Utarg'` również są wartości NaN."
   ]
  },
  {
   "cell_type": "code",
   "execution_count": 4,
   "metadata": {},
   "outputs": [
    {
     "data": {
      "text/plain": [
       "np.float64(332496.70999999996)"
      ]
     },
     "execution_count": 4,
     "metadata": {},
     "output_type": "execute_result"
    }
   ],
   "source": [
    "# samples\n",
    "ddf_sampled = dd.read_csv('zamowienia_missing.csv', assume_missing=True, sep=';', sample=1024)\n",
    "ddf_sampled[ddf_sampled['Kraj'] == 'Polska']['Utarg'].sum().compute()"
   ]
  },
  {
   "cell_type": "code",
   "execution_count": 5,
   "metadata": {},
   "outputs": [
    {
     "data": {
      "text/plain": [
       "np.float64(332496.70999999996)"
      ]
     },
     "execution_count": 5,
     "metadata": {},
     "output_type": "execute_result"
    }
   ],
   "source": [
    "ddf_sampled = dd.read_csv('zamowienia_missing.csv', assume_missing=True, sep=';', sample=4096)\n",
    "ddf_sampled[ddf_sampled['Kraj'] == 'Polska']['Utarg'].sum().compute()"
   ]
  },
  {
   "cell_type": "code",
   "execution_count": 6,
   "metadata": {},
   "outputs": [
    {
     "data": {
      "text/plain": [
       "np.float64(332496.70999999996)"
      ]
     },
     "execution_count": 6,
     "metadata": {},
     "output_type": "execute_result"
    }
   ],
   "source": [
    "ddf_sampled = dd.read_csv('zamowienia_missing.csv', assume_missing=True, sep=';', sample=64)\n",
    "ddf_sampled[ddf_sampled['Kraj'] == 'Polska']['Utarg'].sum().compute()"
   ]
  },
  {
   "cell_type": "markdown",
   "metadata": {},
   "source": [
    "**Zadanie 2**  \n",
    "Ze strony [https://docs.dask.org/en/stable/dashboard.html](https://docs.dask.org/en/stable/dashboard.html) skonfiguruj plugin Dask dashboard dla Jupyter Lab i przetestuj jego działanie."
   ]
  },
  {
   "cell_type": "code",
   "execution_count": 7,
   "metadata": {},
   "outputs": [],
   "source": [
    "from dask.distributed import Client\n",
    "client = Client()\n",
    "client"
   ]
  },
  {
   "cell_type": "code",
   "execution_count": 8,
   "metadata": {},
   "outputs": [],
   "source": [
    "import dask.array as da\n",
    "\n",
    "# przetestuj działanie\n",
    "x = da.random.random((10000, 10000, 10), chunks=(1000, 1000, 5))\n",
    "y = da.random.random((10000, 10000, 10), chunks=(1000, 1000, 5))\n",
    "z = (da.arcsin(x) + da.arccos(y)).sum(axis=(1,2))\n",
    "z.compute()"
   ]
  },
  {
   "attachments": {
    "image.png": {
     "image/png": "[encoded data removed]"
    }
   },
   "cell_type": "markdown",
   "metadata": {},
   "source": [
    "![image.png](attachment:image.png)"
   ]
  },
  {
   "cell_type": "markdown",
   "metadata": {},
   "source": [
    "**Zadanie 3**  \n",
    "Skonfiguruj lokalny klaster (`Client`) tak, aby nie zaalokował wszystkich zasobów (np. zostaw 8 GB RAM dla systemu hosta + 2 rdzenie). Pobierz dane udostępnione na poprzednich zajęciach ([https://huggingface.co/datasets/vargr/private_instagram/tree/main/data](https://huggingface.co/datasets/vargr/private_instagram/tree/main/data)) i załaduj do ramki Dask tyle części ile zdołasz w formie bez optymalizacji. Zmierz czas tej operacji."
   ]
  },
  {
   "cell_type": "code",
   "execution_count": 2,
   "metadata": {},
   "outputs": [
    {
     "name": "stdout",
     "output_type": "stream",
     "text": [
      "Czas ładowania danych: 136.9166660308838 sekund\n"
     ]
    }
   ],
   "source": [
    "import time\n",
    "import dask.dataframe as dd\n",
    "from dask.distributed import Client\n",
    "\n",
    "client = Client(n_workers=2, threads_per_worker=2, memory_limit='28GB')\n",
    "client\n",
    "\n",
    "start_time = time.time()\n",
    "ddf_insta = dd.read_parquet('../*.parquet')\n",
    "ddf_insta.compute()\n",
    "end_time = time.time()\n",
    "print(f\"Czas ładowania danych: {end_time - start_time} sekund\")\n"
   ]
  },
  {
   "cell_type": "markdown",
   "metadata": {},
   "source": [
    "**Zadanie 4**  \n",
    "Wykonaj kilka operacji na klastrze lokalnym z danymi z zadania 3:\n",
    "\n",
    "- wyświetl top 10 użytkowników z najwyższą liczbą like'ów,\n",
    "- pobierz dane tylko za pierwsze półrocze 2019 roku. Każdorazowo zmierz i wyświetl czas operacji i obserwuj dashboard."
   ]
  },
  {
   "cell_type": "code",
   "execution_count": 1,
   "metadata": {},
   "outputs": [
    {
     "name": "stdout",
     "output_type": "stream",
     "text": [
      "Top 10 users w/ highest likes:\n",
      "username\n",
      "lilireinhart     40375292\n",
      "instagram        29864166\n",
      "jamescharles     26067462\n",
      "lizakoshy        19217644\n",
      "elle             17494288\n",
      "433              16457870\n",
      "amandacerny      15019135\n",
      "saraalikhan95    14199489\n",
      "zkdlin           13799100\n",
      "akshaykumar      13352324\n",
      "Name: likes, dtype: int64\n",
      "Time: 4.041318893432617 seconds\n",
      "First half of 2019:\n",
      "              sid  sid_profile      post_id  profile_id                date  \\\n",
      "2        28370905      3496776  Bunhd1DFVAG  2237947779 2019-03-05 08:03:11   \n",
      "4        32170690      3496776  BuDfIyslzfw  2237947779 2019-02-19 08:10:11   \n",
      "5        14315358      3496776  BxJsMDpA2yH  2237947779 2019-05-07 08:33:51   \n",
      "6         8304346      3496776  Bt5LFpZlm3z  2237947779 2019-02-15 08:02:35   \n",
      "7        14315346      3496776  BxZIzaQhS-o  2237947779 2019-05-13 08:32:30   \n",
      "...           ...          ...          ...         ...                 ...   \n",
      "1147349  28364854      1313976  Bt4CYsJFHo0   360287303 2019-02-14 21:27:18   \n",
      "1147352  28365706        88066  ByAb1EkHP2Q    27899994 2019-05-28 14:49:08   \n",
      "1147354  28366529       153908  BxQNlc8l9uw  4121556340 2019-05-09 21:21:07   \n",
      "1147356  28368862        86460  Bx1BskthhEs     6665469 2019-05-24 04:29:08   \n",
      "1147357  28369983       257287  BsEj38AjV1B  8409702084 2019-01-01 01:08:01   \n",
      "\n",
      "         post_type                                        description  likes  \\\n",
      "2                1  Tech Tuesday. Been flat out on the tools. Got ...    168   \n",
      "4                1  Solid effort on the bar turn.\\nFully turned.\\n...    145   \n",
      "5                1  Annual springtime flora picture.\\nTurn bars in...    124   \n",
      "6                1  Laps in spring like conditions. Getting these ...    150   \n",
      "7                1  Cheers Scotland 🏴󠁧󠁢󠁳󠁣󠁴󠁿 See you in a few weeks...    166   \n",
      "...            ...                                                ...    ...   \n",
      "1147349          1  Happy Galentine’s Day 😍❤️💕 Who needs a boyfrie...     76   \n",
      "1147352          1  Polka dots & bubble tea ♡\\n-\\nOutfit from @she...    552   \n",
      "1147354          1  ~The sun is always there, even when we’re turn...   1331   \n",
      "1147356          1                             Happy Friday everyone!    204   \n",
      "1147357          1  Trying a new place.  Chicken cheesesteak with ...     12   \n",
      "\n",
      "         comments        username  \\\n",
      "2               3       andylund_   \n",
      "4               2       andylund_   \n",
      "5               2       andylund_   \n",
      "6               3       andylund_   \n",
      "7               2       andylund_   \n",
      "...           ...             ...   \n",
      "1147349         2    marstran1020   \n",
      "1147352        64   mariahmcalpin   \n",
      "1147354        65  matteo_pippo17   \n",
      "1147356        25         kevsyim   \n",
      "1147357         4     emcginley71   \n",
      "\n",
      "                                                       bio  following  \\\n",
      "2        Professional Bicycle technician, Intense Racin...        520   \n",
      "4        Professional Bicycle technician, Intense Racin...        520   \n",
      "5        Professional Bicycle technician, Intense Racin...        520   \n",
      "6        Professional Bicycle technician, Intense Racin...        520   \n",
      "7        Professional Bicycle technician, Intense Racin...        520   \n",
      "...                                                    ...        ...   \n",
      "1147349                                            [E.H]😄😍       1263   \n",
      "1147352  Make it go right🌙✨🌸\\nFlorida girl living in Ca...        294   \n",
      "1147354                         📚 UNIVPM\\n📍Marche 🇮🇹\\n🎂 20        164   \n",
      "1147356  - Sales Executive at Maserati Richmond -\\n✉: k...        686   \n",
      "1147357                                               <NA>        592   \n",
      "\n",
      "         followers  num_posts  is_business_account lang              category  \n",
      "2             1204        494                False   en  science_&_technology  \n",
      "4             1204        494                False   en  diaries_&_daily_life  \n",
      "5             1204        494                False   en        arts_&_culture  \n",
      "6             1204        494                False   en                sports  \n",
      "7             1204        494                False   en                sports  \n",
      "...            ...        ...                  ...  ...                   ...  \n",
      "1147349        252          6                False   en  diaries_&_daily_life  \n",
      "1147352      37436        520                 True   en       fashion_&_style  \n",
      "1147354      23489        852                False   en    travel_&_adventure  \n",
      "1147356      14254        368                 True   en  diaries_&_daily_life  \n",
      "1147357        177        128                False   en         food_&_dining  \n",
      "\n",
      "[10839273 rows x 17 columns]\n",
      "Time: 43.56267786026001 seconds\n"
     ]
    }
   ],
   "source": [
    "import dask.dataframe as dd\n",
    "from dask.distributed import Client\n",
    "import time\n",
    "\n",
    "client = Client(n_workers=2, threads_per_worker=2, memory_limit='28GB')\n",
    "client\n",
    "\n",
    "ddf = dd.read_parquet('../*.parquet')\n",
    "\n",
    "# top 10\n",
    "start_time = time.time()\n",
    "top_10_users = ddf.groupby('username')['likes'].sum().nlargest(10).compute()\n",
    "end_time = time.time()\n",
    "print(f\"Top 10 users w/ highest likes:\\n{top_10_users}\")\n",
    "print(f\"Time: {end_time - start_time} seconds\")\n",
    "\n",
    "# half of 2019\n",
    "start_time = time.time()\n",
    "ddf['date'] = dd.to_datetime(ddf['date'])\n",
    "first_half_2019 = ddf[(ddf['date'] >= '2019-01-01') & (ddf['date'] <= '2019-06-30')].compute()\n",
    "end_time = time.time()\n",
    "print(f\"First half of 2019:\\n{first_half_2019}\")\n",
    "print(f\"Time: {end_time - start_time} seconds\")\n"
   ]
  },
  {
   "cell_type": "markdown",
   "metadata": {},
   "source": [
    "**Zadanie 5**  \n",
    "Wczytaj te same dane do ramki Dask co w zadaniu 3, ale podaj typy danych, które zostały wybrane w procesie optymalizacji wykonanej w zadaniach z lab 01. Porównaj czas ładowania z zadaniem 3. Wykonaj również te same operacje co w zadaniu 4 i porównaj czas. Śledź wykonanie zadań patrząc na graf wywołań."
   ]
  },
  {
   "cell_type": "code",
   "execution_count": 1,
   "metadata": {},
   "outputs": [
    {
     "name": "stdout",
     "output_type": "stream",
     "text": [
      "Czas ładowania danych opt: 139.645592212677 sekund\n",
      "Time for top 10 opt: 4.895451307296753 seconds\n",
      "Time for first half opt: 38.71882891654968 seconds\n"
     ]
    }
   ],
   "source": [
    "import dask.dataframe as dd\n",
    "from dask.distributed import Client\n",
    "import numpy as np\n",
    "import time\n",
    "import pandas as pd\n",
    "\n",
    "client = Client(n_workers=3, threads_per_worker=2, memory_limit='28GB')\n",
    "client\n",
    "\n",
    "dtype_opt = {\n",
    "    'sid': np.int32,\n",
    "    'post_id': 'category',\n",
    "    'profile_id': 'category',\n",
    "    'post_type': 'category',\n",
    "    'description': 'str',\n",
    "    'likes': np.int32,\n",
    "    'comments': np.int32,\n",
    "    'username': 'category',\n",
    "    'bio': 'str',\n",
    "    'followers': np.int32,\n",
    "    'following': np.int32,\n",
    "    'num_posts': np.int32,\n",
    "    'lang': 'category',\n",
    "    'category': 'category'\n",
    "}\n",
    "\n",
    "start_time = time.time()\n",
    "ddf_optimized = dd.read_parquet('../*.parquet', dtype=dtype_opt)\n",
    "ddf_optimized['date'] = dd.to_datetime(ddf_optimized['date'])\n",
    "ddf_optimized.compute()\n",
    "end_time = time.time()\n",
    "print(f\"Czas ładowania danych opt: {end_time - start_time} sekund\")\n",
    "\n",
    "start_time = time.time()\n",
    "top_10_users_opt = ddf_optimized.groupby('username')['likes'].sum().nlargest(10).compute()\n",
    "end_time = time.time()\n",
    "print(f\"Time for top 10 opt: {end_time - start_time} seconds\")\n",
    "\n",
    "start_time = time.time()\n",
    "first_half_2019_opt = ddf_optimized[(ddf_optimized['date'] >= '2019-01-01') & (ddf_optimized['date'] <= '2019-06-30')].compute()\n",
    "end_time = time.time()\n",
    "print(f\"Time for first half opt: {end_time - start_time} seconds\")"
   ]
  },
  {
   "cell_type": "markdown",
   "metadata": {},
   "source": [
    "**Zadanie 6**  \n",
    "Podziel tablicę `darr` z przykładów na inne liczby chunków (eksperymentuj) i wykonaj te same obliczenie (średnia). Dla każdej liczby chunków wypisz czas obliczeń (wykonaj to samo obliczenie minimum 10 razy, aby nieco uwiarygodnić wyniki i uśrednij) i porównaj wyniki. Napisz wniosek o wynikach swoich eksperymentów i automatycznego podziału na chunki. Czy udało Ci się osiągnąć lepszą wydajność niż przy domyślnych ustawieniach?"
   ]
  },
  {
   "cell_type": "code",
   "execution_count": 1,
   "metadata": {},
   "outputs": [
    {
     "name": "stdout",
     "output_type": "stream",
     "text": [
      "\n",
      "Porównanie:\n",
      "Chunks (2000, 2000): 1.3769 seconds\n",
      "Chunks (4000, 4000): 1.3722 seconds\n",
      "Chunks (5000, 5000): 1.1790 seconds\n",
      "Chunks (10000, 10000): 1.6725 seconds\n",
      "Chunks (20000, 20000): 4.5230 seconds\n",
      "Chunks auto: 1.3215 seconds\n"
     ]
    }
   ],
   "source": [
    "import dask.array as da\n",
    "import time\n",
    "import numpy as np\n",
    "from dask.distributed import Client\n",
    "\n",
    "client = Client(n_workers=4, threads_per_worker=2, memory_limit='24GB')\n",
    "client\n",
    "\n",
    "def measure_time_for_mean(darr, repeats=10):\n",
    "    times = []\n",
    "    for _ in range(repeats):\n",
    "        start_time = time.time()\n",
    "        darr.mean(axis=0).compute()\n",
    "        end_time = time.time()\n",
    "        times.append(end_time - start_time)\n",
    "    return np.mean(times)\n",
    "\n",
    "size = (20_000, 20_000)\n",
    "chunk_sizes = [(2000, 2000), (4000, 4000), (5000, 5000), (10000, 10000), (20000, 20000)]\n",
    "results = {}\n",
    "\n",
    "for chunk in chunk_sizes:\n",
    "    darr = da.random.normal(5, 0.2, size=size, chunks=chunk)\n",
    "    avg_time = measure_time_for_mean(darr, repeats=10)\n",
    "    results[chunk] = avg_time\n",
    "\n",
    "# domyślne\n",
    "darr_auto = da.random.normal(5, 0.2, size=size)\n",
    "auto_time = measure_time_for_mean(darr_auto, repeats=10)\n",
    "results['auto'] = auto_time\n",
    "\n",
    "print(\"\\nPorównanie:\")\n",
    "for chunk, avg_time in results.items():\n",
    "    print(f\"Chunks {chunk}: {avg_time:.4f} seconds\")\n"
   ]
  },
  {
   "cell_type": "code",
   "execution_count": 2,
   "metadata": {},
   "outputs": [
    {
     "name": "stdout",
     "output_type": "stream",
     "text": [
      "Overall avg: 2.0247 seconds\n"
     ]
    }
   ],
   "source": [
    "overall_avg = 0\n",
    "for chunk, avg_time in results.items():\n",
    "    if chunk != 'auto':\n",
    "        overall_avg += avg_time\n",
    "\n",
    "print(f\"Overall avg: {overall_avg/5:.4f} seconds\")"
   ]
  },
  {
   "cell_type": "markdown",
   "metadata": {},
   "source": [
    "Zbyt duże chunki zdecydowanie wykorzystywały zbyt dużo pamięci na pojedyncze zadania - stąd wyższy czas. W teorii mniejsze chunki to również problem - komunikacja między workerami czasami pada, ale akurat tutaj zdały się w miarę dobrze. Najlepszy był podział na *4 części - 5k wielokości chunka*. Czas auto jest niższy niż ogólna średnia, ale dopasowanie indywidualne pozwala na lepsze wyniki."
   ]
  }
 ],
 "metadata": {
  "kernelspec": {
   "display_name": ".venv",
   "language": "python",
   "name": "python3"
  },
  "language_info": {
   "codemirror_mode": {
    "name": "ipython",
    "version": 3
   },
   "file_extension": ".py",
   "mimetype": "text/x-python",
   "name": "python",
   "nbconvert_exporter": "python",
   "pygments_lexer": "ipython3",
   "version": "3.12.2"
  }
 },
 "nbformat": 4,
 "nbformat_minor": 2
}
