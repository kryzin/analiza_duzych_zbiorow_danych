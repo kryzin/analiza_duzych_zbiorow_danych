{
 "cells": [
  {
   "cell_type": "markdown",
   "metadata": {},
   "source": [
    "## Zadanie 1\n",
    "\n",
    "Zbiór (niemały) logów z różnych systemów do wykorzystania w badaniach. Zwróć uwagę na licencję i cytowanie w razie wykorzystania zbioru.\n",
    "\n",
    "Link: https://github.com/logpai/loghub\n",
    "\n",
    "W przykładzie poniżej zostanie wykorzystany log serwera Apache ze strony wymienionej wyżej. Link do pliku sample: https://github.com/logpai/loghub/blob/master/Apache/Apache_2k.log\n",
    "\n",
    "**Zastanów się i spróbuj przerobić to rozwiązanie tak, aby możliwe było użycie wywołań dask delayed w celu zrównoleglenia części funkcji, np. parsowanie danych w celu pobrania wartości kolumn niezależnie (tylko jednej na raz). Dane końcowe możesz zapisać do dask DataFrame, a następnie do plików parquet.**\n"
   ]
  },
  {
   "cell_type": "code",
   "execution_count": 20,
   "metadata": {},
   "outputs": [
    {
     "data": {
      "text/html": [
       "<div>\n",
       "    <div style=\"width: 24px; height: 24px; background-color: #e1e1e1; border: 3px solid #9D9D9D; border-radius: 5px; position: absolute;\"> </div>\n",
       "    <div style=\"margin-left: 48px;\">\n",
       "        <h3 style=\"margin-bottom: 0px;\">Client</h3>\n",
       "        <p style=\"color: #9D9D9D; margin-bottom: 0px;\">Client-8d3be526-8efd-11ef-81cc-a029428dc42a</p>\n",
       "        <table style=\"width: 100%; text-align: left;\">\n",
       "\n",
       "        <tr>\n",
       "        \n",
       "            <td style=\"text-align: left;\"><strong>Connection method:</strong> Cluster object</td>\n",
       "            <td style=\"text-align: left;\"><strong>Cluster type:</strong> distributed.LocalCluster</td>\n",
       "        \n",
       "        </tr>\n",
       "\n",
       "        \n",
       "            <tr>\n",
       "                <td style=\"text-align: left;\">\n",
       "                    <strong>Dashboard: </strong> <a href=\"http://127.0.0.1:8787/status\" target=\"_blank\">http://127.0.0.1:8787/status</a>\n",
       "                </td>\n",
       "                <td style=\"text-align: left;\"></td>\n",
       "            </tr>\n",
       "        \n",
       "\n",
       "        </table>\n",
       "\n",
       "        \n",
       "\n",
       "        \n",
       "            <details>\n",
       "            <summary style=\"margin-bottom: 20px;\"><h3 style=\"display: inline;\">Cluster Info</h3></summary>\n",
       "            <div class=\"jp-RenderedHTMLCommon jp-RenderedHTML jp-mod-trusted jp-OutputArea-output\">\n",
       "    <div style=\"width: 24px; height: 24px; background-color: #e1e1e1; border: 3px solid #9D9D9D; border-radius: 5px; position: absolute;\">\n",
       "    </div>\n",
       "    <div style=\"margin-left: 48px;\">\n",
       "        <h3 style=\"margin-bottom: 0px; margin-top: 0px;\">LocalCluster</h3>\n",
       "        <p style=\"color: #9D9D9D; margin-bottom: 0px;\">5baeb23e</p>\n",
       "        <table style=\"width: 100%; text-align: left;\">\n",
       "            <tr>\n",
       "                <td style=\"text-align: left;\">\n",
       "                    <strong>Dashboard:</strong> <a href=\"http://127.0.0.1:8787/status\" target=\"_blank\">http://127.0.0.1:8787/status</a>\n",
       "                </td>\n",
       "                <td style=\"text-align: left;\">\n",
       "                    <strong>Workers:</strong> 4\n",
       "                </td>\n",
       "            </tr>\n",
       "            <tr>\n",
       "                <td style=\"text-align: left;\">\n",
       "                    <strong>Total threads:</strong> 16\n",
       "                </td>\n",
       "                <td style=\"text-align: left;\">\n",
       "                    <strong>Total memory:</strong> 31.82 GiB\n",
       "                </td>\n",
       "            </tr>\n",
       "            \n",
       "            <tr>\n",
       "    <td style=\"text-align: left;\"><strong>Status:</strong> running</td>\n",
       "    <td style=\"text-align: left;\"><strong>Using processes:</strong> True</td>\n",
       "</tr>\n",
       "\n",
       "            \n",
       "        </table>\n",
       "\n",
       "        <details>\n",
       "            <summary style=\"margin-bottom: 20px;\">\n",
       "                <h3 style=\"display: inline;\">Scheduler Info</h3>\n",
       "            </summary>\n",
       "\n",
       "            <div style=\"\">\n",
       "    <div>\n",
       "        <div style=\"width: 24px; height: 24px; background-color: #FFF7E5; border: 3px solid #FF6132; border-radius: 5px; position: absolute;\"> </div>\n",
       "        <div style=\"margin-left: 48px;\">\n",
       "            <h3 style=\"margin-bottom: 0px;\">Scheduler</h3>\n",
       "            <p style=\"color: #9D9D9D; margin-bottom: 0px;\">Scheduler-b4972c67-c2a1-4fb4-8db9-092e465cba2c</p>\n",
       "            <table style=\"width: 100%; text-align: left;\">\n",
       "                <tr>\n",
       "                    <td style=\"text-align: left;\">\n",
       "                        <strong>Comm:</strong> tcp://127.0.0.1:51571\n",
       "                    </td>\n",
       "                    <td style=\"text-align: left;\">\n",
       "                        <strong>Workers:</strong> 4\n",
       "                    </td>\n",
       "                </tr>\n",
       "                <tr>\n",
       "                    <td style=\"text-align: left;\">\n",
       "                        <strong>Dashboard:</strong> <a href=\"http://127.0.0.1:8787/status\" target=\"_blank\">http://127.0.0.1:8787/status</a>\n",
       "                    </td>\n",
       "                    <td style=\"text-align: left;\">\n",
       "                        <strong>Total threads:</strong> 16\n",
       "                    </td>\n",
       "                </tr>\n",
       "                <tr>\n",
       "                    <td style=\"text-align: left;\">\n",
       "                        <strong>Started:</strong> Just now\n",
       "                    </td>\n",
       "                    <td style=\"text-align: left;\">\n",
       "                        <strong>Total memory:</strong> 31.82 GiB\n",
       "                    </td>\n",
       "                </tr>\n",
       "            </table>\n",
       "        </div>\n",
       "    </div>\n",
       "\n",
       "    <details style=\"margin-left: 48px;\">\n",
       "        <summary style=\"margin-bottom: 20px;\">\n",
       "            <h3 style=\"display: inline;\">Workers</h3>\n",
       "        </summary>\n",
       "\n",
       "        \n",
       "        <div style=\"margin-bottom: 20px;\">\n",
       "            <div style=\"width: 24px; height: 24px; background-color: #DBF5FF; border: 3px solid #4CC9FF; border-radius: 5px; position: absolute;\"> </div>\n",
       "            <div style=\"margin-left: 48px;\">\n",
       "            <details>\n",
       "                <summary>\n",
       "                    <h4 style=\"margin-bottom: 0px; display: inline;\">Worker: 0</h4>\n",
       "                </summary>\n",
       "                <table style=\"width: 100%; text-align: left;\">\n",
       "                    <tr>\n",
       "                        <td style=\"text-align: left;\">\n",
       "                            <strong>Comm: </strong> tcp://127.0.0.1:51593\n",
       "                        </td>\n",
       "                        <td style=\"text-align: left;\">\n",
       "                            <strong>Total threads: </strong> 4\n",
       "                        </td>\n",
       "                    </tr>\n",
       "                    <tr>\n",
       "                        <td style=\"text-align: left;\">\n",
       "                            <strong>Dashboard: </strong> <a href=\"http://127.0.0.1:51594/status\" target=\"_blank\">http://127.0.0.1:51594/status</a>\n",
       "                        </td>\n",
       "                        <td style=\"text-align: left;\">\n",
       "                            <strong>Memory: </strong> 7.95 GiB\n",
       "                        </td>\n",
       "                    </tr>\n",
       "                    <tr>\n",
       "                        <td style=\"text-align: left;\">\n",
       "                            <strong>Nanny: </strong> tcp://127.0.0.1:51574\n",
       "                        </td>\n",
       "                        <td style=\"text-align: left;\"></td>\n",
       "                    </tr>\n",
       "                    <tr>\n",
       "                        <td colspan=\"2\" style=\"text-align: left;\">\n",
       "                            <strong>Local directory: </strong> C:\\Users\\karol\\AppData\\Local\\Temp\\dask-scratch-space\\worker-_gr_hk00\n",
       "                        </td>\n",
       "                    </tr>\n",
       "\n",
       "                    \n",
       "\n",
       "                    \n",
       "\n",
       "                </table>\n",
       "            </details>\n",
       "            </div>\n",
       "        </div>\n",
       "        \n",
       "        <div style=\"margin-bottom: 20px;\">\n",
       "            <div style=\"width: 24px; height: 24px; background-color: #DBF5FF; border: 3px solid #4CC9FF; border-radius: 5px; position: absolute;\"> </div>\n",
       "            <div style=\"margin-left: 48px;\">\n",
       "            <details>\n",
       "                <summary>\n",
       "                    <h4 style=\"margin-bottom: 0px; display: inline;\">Worker: 1</h4>\n",
       "                </summary>\n",
       "                <table style=\"width: 100%; text-align: left;\">\n",
       "                    <tr>\n",
       "                        <td style=\"text-align: left;\">\n",
       "                            <strong>Comm: </strong> tcp://127.0.0.1:51590\n",
       "                        </td>\n",
       "                        <td style=\"text-align: left;\">\n",
       "                            <strong>Total threads: </strong> 4\n",
       "                        </td>\n",
       "                    </tr>\n",
       "                    <tr>\n",
       "                        <td style=\"text-align: left;\">\n",
       "                            <strong>Dashboard: </strong> <a href=\"http://127.0.0.1:51591/status\" target=\"_blank\">http://127.0.0.1:51591/status</a>\n",
       "                        </td>\n",
       "                        <td style=\"text-align: left;\">\n",
       "                            <strong>Memory: </strong> 7.95 GiB\n",
       "                        </td>\n",
       "                    </tr>\n",
       "                    <tr>\n",
       "                        <td style=\"text-align: left;\">\n",
       "                            <strong>Nanny: </strong> tcp://127.0.0.1:51576\n",
       "                        </td>\n",
       "                        <td style=\"text-align: left;\"></td>\n",
       "                    </tr>\n",
       "                    <tr>\n",
       "                        <td colspan=\"2\" style=\"text-align: left;\">\n",
       "                            <strong>Local directory: </strong> C:\\Users\\karol\\AppData\\Local\\Temp\\dask-scratch-space\\worker-1jnihhh0\n",
       "                        </td>\n",
       "                    </tr>\n",
       "\n",
       "                    \n",
       "\n",
       "                    \n",
       "\n",
       "                </table>\n",
       "            </details>\n",
       "            </div>\n",
       "        </div>\n",
       "        \n",
       "        <div style=\"margin-bottom: 20px;\">\n",
       "            <div style=\"width: 24px; height: 24px; background-color: #DBF5FF; border: 3px solid #4CC9FF; border-radius: 5px; position: absolute;\"> </div>\n",
       "            <div style=\"margin-left: 48px;\">\n",
       "            <details>\n",
       "                <summary>\n",
       "                    <h4 style=\"margin-bottom: 0px; display: inline;\">Worker: 2</h4>\n",
       "                </summary>\n",
       "                <table style=\"width: 100%; text-align: left;\">\n",
       "                    <tr>\n",
       "                        <td style=\"text-align: left;\">\n",
       "                            <strong>Comm: </strong> tcp://127.0.0.1:51596\n",
       "                        </td>\n",
       "                        <td style=\"text-align: left;\">\n",
       "                            <strong>Total threads: </strong> 4\n",
       "                        </td>\n",
       "                    </tr>\n",
       "                    <tr>\n",
       "                        <td style=\"text-align: left;\">\n",
       "                            <strong>Dashboard: </strong> <a href=\"http://127.0.0.1:51598/status\" target=\"_blank\">http://127.0.0.1:51598/status</a>\n",
       "                        </td>\n",
       "                        <td style=\"text-align: left;\">\n",
       "                            <strong>Memory: </strong> 7.95 GiB\n",
       "                        </td>\n",
       "                    </tr>\n",
       "                    <tr>\n",
       "                        <td style=\"text-align: left;\">\n",
       "                            <strong>Nanny: </strong> tcp://127.0.0.1:51578\n",
       "                        </td>\n",
       "                        <td style=\"text-align: left;\"></td>\n",
       "                    </tr>\n",
       "                    <tr>\n",
       "                        <td colspan=\"2\" style=\"text-align: left;\">\n",
       "                            <strong>Local directory: </strong> C:\\Users\\karol\\AppData\\Local\\Temp\\dask-scratch-space\\worker-u1emfcbn\n",
       "                        </td>\n",
       "                    </tr>\n",
       "\n",
       "                    \n",
       "\n",
       "                    \n",
       "\n",
       "                </table>\n",
       "            </details>\n",
       "            </div>\n",
       "        </div>\n",
       "        \n",
       "        <div style=\"margin-bottom: 20px;\">\n",
       "            <div style=\"width: 24px; height: 24px; background-color: #DBF5FF; border: 3px solid #4CC9FF; border-radius: 5px; position: absolute;\"> </div>\n",
       "            <div style=\"margin-left: 48px;\">\n",
       "            <details>\n",
       "                <summary>\n",
       "                    <h4 style=\"margin-bottom: 0px; display: inline;\">Worker: 3</h4>\n",
       "                </summary>\n",
       "                <table style=\"width: 100%; text-align: left;\">\n",
       "                    <tr>\n",
       "                        <td style=\"text-align: left;\">\n",
       "                            <strong>Comm: </strong> tcp://127.0.0.1:51597\n",
       "                        </td>\n",
       "                        <td style=\"text-align: left;\">\n",
       "                            <strong>Total threads: </strong> 4\n",
       "                        </td>\n",
       "                    </tr>\n",
       "                    <tr>\n",
       "                        <td style=\"text-align: left;\">\n",
       "                            <strong>Dashboard: </strong> <a href=\"http://127.0.0.1:51600/status\" target=\"_blank\">http://127.0.0.1:51600/status</a>\n",
       "                        </td>\n",
       "                        <td style=\"text-align: left;\">\n",
       "                            <strong>Memory: </strong> 7.95 GiB\n",
       "                        </td>\n",
       "                    </tr>\n",
       "                    <tr>\n",
       "                        <td style=\"text-align: left;\">\n",
       "                            <strong>Nanny: </strong> tcp://127.0.0.1:51580\n",
       "                        </td>\n",
       "                        <td style=\"text-align: left;\"></td>\n",
       "                    </tr>\n",
       "                    <tr>\n",
       "                        <td colspan=\"2\" style=\"text-align: left;\">\n",
       "                            <strong>Local directory: </strong> C:\\Users\\karol\\AppData\\Local\\Temp\\dask-scratch-space\\worker-bywm944a\n",
       "                        </td>\n",
       "                    </tr>\n",
       "\n",
       "                    \n",
       "\n",
       "                    \n",
       "\n",
       "                </table>\n",
       "            </details>\n",
       "            </div>\n",
       "        </div>\n",
       "        \n",
       "\n",
       "    </details>\n",
       "</div>\n",
       "\n",
       "        </details>\n",
       "    </div>\n",
       "</div>\n",
       "            </details>\n",
       "        \n",
       "\n",
       "    </div>\n",
       "</div>"
      ],
      "text/plain": [
       "<Client: 'tcp://127.0.0.1:51571' processes=4 threads=16, memory=31.82 GiB>"
      ]
     },
     "execution_count": 20,
     "metadata": {},
     "output_type": "execute_result"
    }
   ],
   "source": [
    "from dask.distributed import Client, progress\n",
    "\n",
    "client = Client(n_workers=4)\n",
    "client"
   ]
  },
  {
   "cell_type": "code",
   "execution_count": 21,
   "metadata": {},
   "outputs": [
    {
     "data": {
      "text/html": [
       "<div>\n",
       "<style scoped>\n",
       "    .dataframe tbody tr th:only-of-type {\n",
       "        vertical-align: middle;\n",
       "    }\n",
       "\n",
       "    .dataframe tbody tr th {\n",
       "        vertical-align: top;\n",
       "    }\n",
       "\n",
       "    .dataframe thead th {\n",
       "        text-align: right;\n",
       "    }\n",
       "</style>\n",
       "<table border=\"1\" class=\"dataframe\">\n",
       "  <thead>\n",
       "    <tr style=\"text-align: right;\">\n",
       "      <th></th>\n",
       "      <th>date</th>\n",
       "      <th>level</th>\n",
       "      <th>client</th>\n",
       "      <th>message</th>\n",
       "    </tr>\n",
       "  </thead>\n",
       "  <tbody>\n",
       "    <tr>\n",
       "      <th>0</th>\n",
       "      <td>2005-12-04 04:47:44</td>\n",
       "      <td>notice</td>\n",
       "      <td></td>\n",
       "      <td>workerEnv.init() ok /etc/httpd/conf/workers2.p...</td>\n",
       "    </tr>\n",
       "    <tr>\n",
       "      <th>1</th>\n",
       "      <td>2005-12-04 04:47:44</td>\n",
       "      <td>error</td>\n",
       "      <td></td>\n",
       "      <td>mod_jk child workerEnv in error state 6\\n</td>\n",
       "    </tr>\n",
       "    <tr>\n",
       "      <th>2</th>\n",
       "      <td>2005-12-04 04:51:08</td>\n",
       "      <td>notice</td>\n",
       "      <td></td>\n",
       "      <td>jk2_init() Found child 6725 in scoreboard slot...</td>\n",
       "    </tr>\n",
       "    <tr>\n",
       "      <th>3</th>\n",
       "      <td>2005-12-04 04:51:09</td>\n",
       "      <td>notice</td>\n",
       "      <td></td>\n",
       "      <td>jk2_init() Found child 6726 in scoreboard slot...</td>\n",
       "    </tr>\n",
       "    <tr>\n",
       "      <th>4</th>\n",
       "      <td>2005-12-04 04:51:09</td>\n",
       "      <td>notice</td>\n",
       "      <td></td>\n",
       "      <td>jk2_init() Found child 6728 in scoreboard slot...</td>\n",
       "    </tr>\n",
       "  </tbody>\n",
       "</table>\n",
       "</div>"
      ],
      "text/plain": [
       "                 date   level client  \\\n",
       "0 2005-12-04 04:47:44  notice          \n",
       "1 2005-12-04 04:47:44   error          \n",
       "2 2005-12-04 04:51:08  notice          \n",
       "3 2005-12-04 04:51:09  notice          \n",
       "4 2005-12-04 04:51:09  notice          \n",
       "\n",
       "                                             message  \n",
       "0  workerEnv.init() ok /etc/httpd/conf/workers2.p...  \n",
       "1          mod_jk child workerEnv in error state 6\\n  \n",
       "2  jk2_init() Found child 6725 in scoreboard slot...  \n",
       "3  jk2_init() Found child 6726 in scoreboard slot...  \n",
       "4  jk2_init() Found child 6728 in scoreboard slot...  "
      ]
     },
     "execution_count": 21,
     "metadata": {},
     "output_type": "execute_result"
    }
   ],
   "source": [
    "\n",
    "from datetime import datetime\n",
    "import time\n",
    "import pandas as pd\n",
    "\n",
    "with open('Apache_2k.log', 'r') as f:\n",
    "    lines = f.readlines()\n",
    "\n",
    "def parse(inp: str):\n",
    "    record = {}\n",
    "    \n",
    "    date_start = inp.find('[') + 1\n",
    "    date_end = inp.find(']')\n",
    "    date_s = slice(date_start, date_end)\n",
    "\n",
    "    level_start = inp.find('[', date_end) + 1\n",
    "    level_end = inp.find(']', level_start)\n",
    "    level_s = slice(level_start, level_end)\n",
    "\n",
    "    client_start = inp.find('[', level_end)\n",
    "    client_end = inp.find(']', client_start)\n",
    "\n",
    "    record[\"date\"] = inp[date_s]    \n",
    "    record[\"level\"] = inp[level_s]\n",
    "    record[\"client\"] = \"\" if client_start == -1 else inp[client_start + 8: client_end]\n",
    "    record[\"message\"] = inp[client_end + 2:] if record[\"client\"] else inp[level_end + 2:]\n",
    "    \n",
    "    return record\n",
    "\n",
    "def convert_date(rec):\n",
    "    rec[\"date\"] = datetime.strptime(rec[\"date\"], \"%a %b %d %H:%M:%S %Y\")\n",
    "\n",
    "    return rec\n",
    "\n",
    "\n",
    "output = []\n",
    "\n",
    "for line in lines:\n",
    "    record = parse(line)\n",
    "    record = convert_date(record)\n",
    "    output.append(list(record.values()))\n",
    "    \n",
    "df = pd.DataFrame(output, columns=[\"date\", \"level\", \"client\", \"message\"])\n",
    "df.head()"
   ]
  },
  {
   "cell_type": "code",
   "execution_count": 25,
   "metadata": {},
   "outputs": [
    {
     "data": {
      "text/html": [
       "<div>\n",
       "<style scoped>\n",
       "    .dataframe tbody tr th:only-of-type {\n",
       "        vertical-align: middle;\n",
       "    }\n",
       "\n",
       "    .dataframe tbody tr th {\n",
       "        vertical-align: top;\n",
       "    }\n",
       "\n",
       "    .dataframe thead th {\n",
       "        text-align: right;\n",
       "    }\n",
       "</style>\n",
       "<table border=\"1\" class=\"dataframe\">\n",
       "  <thead>\n",
       "    <tr style=\"text-align: right;\">\n",
       "      <th></th>\n",
       "      <th>date</th>\n",
       "      <th>level</th>\n",
       "      <th>client</th>\n",
       "      <th>message</th>\n",
       "    </tr>\n",
       "  </thead>\n",
       "  <tbody>\n",
       "    <tr>\n",
       "      <th>0</th>\n",
       "      <td>Delayed('convert_date-2ad86c62-4609-455f-8010-...</td>\n",
       "      <td>Delayed('parse_level-b1db4ccc-f41f-47c9-ad66-8...</td>\n",
       "      <td>Delayed('parse_client-ebd1934f-3574-42f4-a9bc-...</td>\n",
       "      <td>Delayed('parse_message-eb71ad08-7bf7-438c-af97...</td>\n",
       "    </tr>\n",
       "    <tr>\n",
       "      <th>1</th>\n",
       "      <td>Delayed('convert_date-6d26cb56-bbbf-4d8f-a8c0-...</td>\n",
       "      <td>Delayed('parse_level-f8f2e2cc-6dd4-4f3c-add1-b...</td>\n",
       "      <td>Delayed('parse_client-10f8ebd0-16b0-415d-afd8-...</td>\n",
       "      <td>Delayed('parse_message-cb851007-ff7b-4299-914e...</td>\n",
       "    </tr>\n",
       "    <tr>\n",
       "      <th>2</th>\n",
       "      <td>Delayed('convert_date-03416a62-84d2-4fc2-84ce-...</td>\n",
       "      <td>Delayed('parse_level-2d060057-364c-48e5-a972-6...</td>\n",
       "      <td>Delayed('parse_client-1915ac4f-c3ad-4d12-a36f-...</td>\n",
       "      <td>Delayed('parse_message-7dd96fb2-8bac-4c36-8bb6...</td>\n",
       "    </tr>\n",
       "    <tr>\n",
       "      <th>3</th>\n",
       "      <td>Delayed('convert_date-f77d1ae3-ee44-4bb3-97d2-...</td>\n",
       "      <td>Delayed('parse_level-6996bfd3-f38b-476a-bba6-b...</td>\n",
       "      <td>Delayed('parse_client-55466184-8acd-4db3-a91e-...</td>\n",
       "      <td>Delayed('parse_message-838c10a0-7468-47e5-be6b...</td>\n",
       "    </tr>\n",
       "    <tr>\n",
       "      <th>4</th>\n",
       "      <td>Delayed('convert_date-0a0245f0-46ae-4240-8cd4-...</td>\n",
       "      <td>Delayed('parse_level-c78fb8f1-9bdd-444e-84e9-5...</td>\n",
       "      <td>Delayed('parse_client-70ccba62-ebf3-4ce5-ad42-...</td>\n",
       "      <td>Delayed('parse_message-196eff5e-db1b-4940-ac79...</td>\n",
       "    </tr>\n",
       "  </tbody>\n",
       "</table>\n",
       "</div>"
      ],
      "text/plain": [
       "                                                date  \\\n",
       "0  Delayed('convert_date-2ad86c62-4609-455f-8010-...   \n",
       "1  Delayed('convert_date-6d26cb56-bbbf-4d8f-a8c0-...   \n",
       "2  Delayed('convert_date-03416a62-84d2-4fc2-84ce-...   \n",
       "3  Delayed('convert_date-f77d1ae3-ee44-4bb3-97d2-...   \n",
       "4  Delayed('convert_date-0a0245f0-46ae-4240-8cd4-...   \n",
       "\n",
       "                                               level  \\\n",
       "0  Delayed('parse_level-b1db4ccc-f41f-47c9-ad66-8...   \n",
       "1  Delayed('parse_level-f8f2e2cc-6dd4-4f3c-add1-b...   \n",
       "2  Delayed('parse_level-2d060057-364c-48e5-a972-6...   \n",
       "3  Delayed('parse_level-6996bfd3-f38b-476a-bba6-b...   \n",
       "4  Delayed('parse_level-c78fb8f1-9bdd-444e-84e9-5...   \n",
       "\n",
       "                                              client  \\\n",
       "0  Delayed('parse_client-ebd1934f-3574-42f4-a9bc-...   \n",
       "1  Delayed('parse_client-10f8ebd0-16b0-415d-afd8-...   \n",
       "2  Delayed('parse_client-1915ac4f-c3ad-4d12-a36f-...   \n",
       "3  Delayed('parse_client-55466184-8acd-4db3-a91e-...   \n",
       "4  Delayed('parse_client-70ccba62-ebf3-4ce5-ad42-...   \n",
       "\n",
       "                                             message  \n",
       "0  Delayed('parse_message-eb71ad08-7bf7-438c-af97...  \n",
       "1  Delayed('parse_message-cb851007-ff7b-4299-914e...  \n",
       "2  Delayed('parse_message-7dd96fb2-8bac-4c36-8bb6...  \n",
       "3  Delayed('parse_message-838c10a0-7468-47e5-be6b...  \n",
       "4  Delayed('parse_message-196eff5e-db1b-4940-ac79...  "
      ]
     },
     "execution_count": 25,
     "metadata": {},
     "output_type": "execute_result"
    }
   ],
   "source": [
    "import dask\n",
    "from dask import delayed\n",
    "from datetime import datetime\n",
    "import dask.dataframe as dd\n",
    "import pandas as pd\n",
    "\n",
    "with open('Apache_2k.log', 'r') as f:\n",
    "    lines = f.readlines()\n",
    "\n",
    "@delayed\n",
    "def parse_date(inp: str):\n",
    "    date_start = inp.find('[') + 1\n",
    "    date_end = inp.find(']')\n",
    "    return inp[date_start:date_end]\n",
    "\n",
    "@delayed\n",
    "def parse_level(inp: str, date_end):\n",
    "    level_start = inp.find('[', date_end) + 1\n",
    "    level_end = inp.find(']', level_start)\n",
    "    return inp[level_start:level_end]\n",
    "\n",
    "@delayed\n",
    "def parse_client(inp: str, level_end):\n",
    "    client_start = inp.find('[', level_end)\n",
    "    if client_start == -1:\n",
    "        return \"\"\n",
    "    client_end = inp.find(']', client_start)\n",
    "    return inp[client_start + 8: client_end]\n",
    "\n",
    "@delayed\n",
    "def parse_message(inp: str, level_end, client):\n",
    "    client_end = inp.find(']', level_end)\n",
    "    if client:\n",
    "        return inp[client_end + 2:]\n",
    "    return inp[level_end + 2:]\n",
    "\n",
    "@delayed\n",
    "def convert_date(date_str):\n",
    "    return datetime.strptime(date_str, \"%a %b %d %H:%M:%S %Y\")\n",
    "\n",
    "@delayed\n",
    "def parse_line(line):\n",
    "    date = parse_date(line)\n",
    "    level = parse_level(line, line.find(']'))\n",
    "    client = parse_client(line, line.find(']', line.find(']') + 1))\n",
    "    message = parse_message(line, line.find(']', line.find(']') + 1), client)\n",
    "    \n",
    "    return {\"date\": date, \"level\": level, \"client\": client, \"message\": message}\n",
    "\n",
    "parsed_lines = [parse_line(line) for line in lines]\n",
    "\n",
    "@delayed\n",
    "def process_record(record):\n",
    "    record[\"date\"] = convert_date(record[\"date\"])\n",
    "    return list(record.values())\n",
    "\n",
    "processed_output = [process_record(record) for record in parsed_lines]\n",
    "output = dask.compute(*processed_output)\n",
    "\n",
    "df = pd.DataFrame(output, columns=[\"date\", \"level\", \"client\", \"message\"])\n",
    "df.head()"
   ]
  },
  {
   "cell_type": "code",
   "execution_count": 26,
   "metadata": {},
   "outputs": [],
   "source": [
    "import dask.dataframe as dd\n",
    "import os\n",
    "\n",
    "ddf = dd.from_pandas(df, npartitions=4)\n",
    "os.makedirs('./log_parquet', exist_ok=True)\n",
    "ddf.to_parquet(os.path.join('./log_parquet', 'apache_logs.parquet'))"
   ]
  },
  {
   "cell_type": "markdown",
   "metadata": {},
   "source": [
    "## Zadanie Dask Futures\n",
    "\n",
    "Zwróć uwagę na wyniki oraz widok w dashboardzie dla kilkukrotnego wywołania tych samych futures. Czy zauważyłeś coś ciekawego?"
   ]
  },
  {
   "cell_type": "code",
   "execution_count": 27,
   "metadata": {},
   "outputs": [
    {
     "data": {
      "text/plain": [
       "45"
      ]
     },
     "execution_count": 27,
     "metadata": {},
     "output_type": "execute_result"
    }
   ],
   "source": [
    "def func(runs: int):\n",
    "    sum = 0\n",
    "    for run in range(runs):\n",
    "        time.sleep(2)\n",
    "        sum += run\n",
    "    return sum\n",
    "\n",
    "fut = client.submit(func, 10)\n",
    "fut.result()"
   ]
  },
  {
   "cell_type": "code",
   "execution_count": 28,
   "metadata": {},
   "outputs": [
    {
     "data": {
      "text/plain": [
       "3381"
      ]
     },
     "execution_count": 28,
     "metadata": {},
     "output_type": "execute_result"
    }
   ],
   "source": [
    "import random\n",
    "\n",
    "tasks = 100\n",
    "futures = []\n",
    "\n",
    "for task in range(tasks):\n",
    "    futures.append(client.submit(func, random.randint(1, 15)))\n",
    "\n",
    "results = client.gather(futures)\n",
    "sum(results)"
   ]
  },
  {
   "cell_type": "code",
   "execution_count": 29,
   "metadata": {},
   "outputs": [
    {
     "data": {
      "text/plain": [
       "16536"
      ]
     },
     "execution_count": 29,
     "metadata": {},
     "output_type": "execute_result"
    }
   ],
   "source": [
    "task_list = [random.randint(1, 30) for _ in range(100)]\n",
    "futures2 = client.map(func, task_list)\n",
    "results2 = client.gather(futures2)\n",
    "sum(results2)"
   ]
  },
  {
   "cell_type": "code",
   "execution_count": 30,
   "metadata": {},
   "outputs": [
    {
     "data": {
      "text/plain": [
       "'Batch 1'"
      ]
     },
     "metadata": {},
     "output_type": "display_data"
    },
    {
     "data": {
      "text/plain": [
       "'Future <Future: finished, type: int, key: func-1c19ee575c36628564e46914a912411f> result: 66'"
      ]
     },
     "metadata": {},
     "output_type": "display_data"
    },
    {
     "data": {
      "text/plain": [
       "'Future <Future: finished, type: int, key: func-816c2aeb6f3bc85ea08b1584357d56e5> result: 276'"
      ]
     },
     "metadata": {},
     "output_type": "display_data"
    },
    {
     "data": {
      "text/plain": [
       "'Batch 2'"
      ]
     },
     "metadata": {},
     "output_type": "display_data"
    },
    {
     "data": {
      "text/plain": [
       "'Future <Future: finished, type: int, key: func-4394c55205c9dab823dc3ab04a76dc3e> result: 210'"
      ]
     },
     "metadata": {},
     "output_type": "display_data"
    },
    {
     "data": {
      "text/plain": [
       "'Batch 3'"
      ]
     },
     "metadata": {},
     "output_type": "display_data"
    },
    {
     "data": {
      "text/plain": [
       "'Future <Future: finished, type: int, key: func-13f0ad62ef88798a3eb337b224b9096f> result: 55'"
      ]
     },
     "metadata": {},
     "output_type": "display_data"
    },
    {
     "data": {
      "text/plain": [
       "'Future <Future: finished, type: int, key: func-76332bfcf4d44445c162f12b40904b9b> result: 253'"
      ]
     },
     "metadata": {},
     "output_type": "display_data"
    },
    {
     "data": {
      "text/plain": [
       "'Future <Future: finished, type: int, key: func-620315f9cee38568ffb707c474267307> result: 325'"
      ]
     },
     "metadata": {},
     "output_type": "display_data"
    },
    {
     "data": {
      "text/plain": [
       "'Future <Future: finished, type: int, key: func-4394c55205c9dab823dc3ab04a76dc3e> result: 210'"
      ]
     },
     "metadata": {},
     "output_type": "display_data"
    },
    {
     "data": {
      "text/plain": [
       "'Future <Future: finished, type: int, key: func-468b1d4bbd768f02b732e326cb3c1e39> result: 28'"
      ]
     },
     "metadata": {},
     "output_type": "display_data"
    },
    {
     "data": {
      "text/plain": [
       "'Batch 4'"
      ]
     },
     "metadata": {},
     "output_type": "display_data"
    },
    {
     "data": {
      "text/plain": [
       "'Future <Future: finished, type: int, key: func-8880c6054d387c23733fdfe7109e7a8c> result: 120'"
      ]
     },
     "metadata": {},
     "output_type": "display_data"
    },
    {
     "data": {
      "text/plain": [
       "'Future <Future: finished, type: int, key: func-07ce920493632c004701f1dbb28511a8> result: 406'"
      ]
     },
     "metadata": {},
     "output_type": "display_data"
    },
    {
     "data": {
      "text/plain": [
       "'Future <Future: finished, type: int, key: func-816c2aeb6f3bc85ea08b1584357d56e5> result: 276'"
      ]
     },
     "metadata": {},
     "output_type": "display_data"
    },
    {
     "data": {
      "text/plain": [
       "'Future <Future: finished, type: int, key: func-47dbab8de7cb3147009ae631cceeed8a> result: 21'"
      ]
     },
     "metadata": {},
     "output_type": "display_data"
    },
    {
     "data": {
      "text/plain": [
       "'Future <Future: finished, type: int, key: func-b49032b50832bb1a8680ee100816d382> result: 435'"
      ]
     },
     "metadata": {},
     "output_type": "display_data"
    },
    {
     "data": {
      "text/plain": [
       "'Future <Future: finished, type: int, key: func-b084e3430cfd46cf245c15cf9cc36ddf> result: 78'"
      ]
     },
     "metadata": {},
     "output_type": "display_data"
    },
    {
     "data": {
      "text/plain": [
       "'Future <Future: finished, type: int, key: func-13f0ad62ef88798a3eb337b224b9096f> result: 55'"
      ]
     },
     "metadata": {},
     "output_type": "display_data"
    },
    {
     "data": {
      "text/plain": [
       "'Future <Future: finished, type: int, key: func-620315f9cee38568ffb707c474267307> result: 325'"
      ]
     },
     "metadata": {},
     "output_type": "display_data"
    },
    {
     "data": {
      "text/plain": [
       "'Future <Future: finished, type: int, key: func-816c2aeb6f3bc85ea08b1584357d56e5> result: 276'"
      ]
     },
     "metadata": {},
     "output_type": "display_data"
    },
    {
     "data": {
      "text/plain": [
       "'Future <Future: finished, type: int, key: func-dce2320793bf324fdb8445dcb3cb1f61> result: 231'"
      ]
     },
     "metadata": {},
     "output_type": "display_data"
    },
    {
     "data": {
      "text/plain": [
       "'Future <Future: finished, type: int, key: func-e57ae0c17f12dac8a93ee88ad4929fe6> result: 0'"
      ]
     },
     "metadata": {},
     "output_type": "display_data"
    },
    {
     "data": {
      "text/plain": [
       "'Future <Future: finished, type: int, key: func-e57ae0c17f12dac8a93ee88ad4929fe6> result: 0'"
      ]
     },
     "metadata": {},
     "output_type": "display_data"
    },
    {
     "data": {
      "text/plain": [
       "'Future <Future: finished, type: int, key: func-2a878e8a0788c4eae120093633041144> result: 15'"
      ]
     },
     "metadata": {},
     "output_type": "display_data"
    },
    {
     "data": {
      "text/plain": [
       "'Future <Future: finished, type: int, key: func-8880c6054d387c23733fdfe7109e7a8c> result: 120'"
      ]
     },
     "metadata": {},
     "output_type": "display_data"
    },
    {
     "data": {
      "text/plain": [
       "'Future <Future: finished, type: int, key: func-8880c6054d387c23733fdfe7109e7a8c> result: 120'"
      ]
     },
     "metadata": {},
     "output_type": "display_data"
    },
    {
     "data": {
      "text/plain": [
       "'Future <Future: finished, type: int, key: func-2a878e8a0788c4eae120093633041144> result: 15'"
      ]
     },
     "metadata": {},
     "output_type": "display_data"
    },
    {
     "data": {
      "text/plain": [
       "'Future <Future: finished, type: int, key: func-47dbab8de7cb3147009ae631cceeed8a> result: 21'"
      ]
     },
     "metadata": {},
     "output_type": "display_data"
    },
    {
     "data": {
      "text/plain": [
       "'Future <Future: finished, type: int, key: func-620315f9cee38568ffb707c474267307> result: 325'"
      ]
     },
     "metadata": {},
     "output_type": "display_data"
    },
    {
     "data": {
      "text/plain": [
       "'Future <Future: finished, type: int, key: func-816c2aeb6f3bc85ea08b1584357d56e5> result: 276'"
      ]
     },
     "metadata": {},
     "output_type": "display_data"
    },
    {
     "data": {
      "text/plain": [
       "'Future <Future: finished, type: int, key: func-4394c55205c9dab823dc3ab04a76dc3e> result: 210'"
      ]
     },
     "metadata": {},
     "output_type": "display_data"
    },
    {
     "data": {
      "text/plain": [
       "'Future <Future: finished, type: int, key: func-62b4e0012cc4bf1f559ac3c6d83327a7> result: 153'"
      ]
     },
     "metadata": {},
     "output_type": "display_data"
    },
    {
     "data": {
      "text/plain": [
       "'Future <Future: finished, type: int, key: func-79e992313a2ea7d4f274a72197c07eaa> result: 300'"
      ]
     },
     "metadata": {},
     "output_type": "display_data"
    },
    {
     "data": {
      "text/plain": [
       "'Future <Future: finished, type: int, key: func-eba18ae3b3ed99083ac845a44b500024> result: 36'"
      ]
     },
     "metadata": {},
     "output_type": "display_data"
    },
    {
     "data": {
      "text/plain": [
       "'Future <Future: finished, type: int, key: func-43b6d26b6b9939a8d33a235708080d37> result: 105'"
      ]
     },
     "metadata": {},
     "output_type": "display_data"
    },
    {
     "data": {
      "text/plain": [
       "'Future <Future: finished, type: int, key: func-4394c55205c9dab823dc3ab04a76dc3e> result: 210'"
      ]
     },
     "metadata": {},
     "output_type": "display_data"
    },
    {
     "data": {
      "text/plain": [
       "'Future <Future: finished, type: int, key: func-7dc2a0352e59de8de60655f054b9d34c> result: 171'"
      ]
     },
     "metadata": {},
     "output_type": "display_data"
    },
    {
     "data": {
      "text/plain": [
       "'Future <Future: finished, type: int, key: func-43b6d26b6b9939a8d33a235708080d37> result: 105'"
      ]
     },
     "metadata": {},
     "output_type": "display_data"
    },
    {
     "data": {
      "text/plain": [
       "'Future <Future: finished, type: int, key: func-4394c55205c9dab823dc3ab04a76dc3e> result: 210'"
      ]
     },
     "metadata": {},
     "output_type": "display_data"
    },
    {
     "data": {
      "text/plain": [
       "'Future <Future: finished, type: int, key: func-92b07e28cf4f18cf125fe855e93b6fc1> result: 378'"
      ]
     },
     "metadata": {},
     "output_type": "display_data"
    },
    {
     "data": {
      "text/plain": [
       "'Future <Future: finished, type: int, key: func-468b1d4bbd768f02b732e326cb3c1e39> result: 28'"
      ]
     },
     "metadata": {},
     "output_type": "display_data"
    },
    {
     "data": {
      "text/plain": [
       "'Future <Future: finished, type: int, key: func-5d4711d4014fbcd5eed8ddb4309f3f55> result: 190'"
      ]
     },
     "metadata": {},
     "output_type": "display_data"
    },
    {
     "data": {
      "text/plain": [
       "'Future <Future: finished, type: int, key: func-468b1d4bbd768f02b732e326cb3c1e39> result: 28'"
      ]
     },
     "metadata": {},
     "output_type": "display_data"
    },
    {
     "data": {
      "text/plain": [
       "'Future <Future: finished, type: int, key: func-5855603231b69ce55bdecac66619be13> result: 91'"
      ]
     },
     "metadata": {},
     "output_type": "display_data"
    },
    {
     "data": {
      "text/plain": [
       "'Future <Future: finished, type: int, key: func-62b4e0012cc4bf1f559ac3c6d83327a7> result: 153'"
      ]
     },
     "metadata": {},
     "output_type": "display_data"
    },
    {
     "data": {
      "text/plain": [
       "'Future <Future: finished, type: int, key: func-eba18ae3b3ed99083ac845a44b500024> result: 36'"
      ]
     },
     "metadata": {},
     "output_type": "display_data"
    },
    {
     "data": {
      "text/plain": [
       "'Future <Future: finished, type: int, key: func-43b6d26b6b9939a8d33a235708080d37> result: 105'"
      ]
     },
     "metadata": {},
     "output_type": "display_data"
    },
    {
     "data": {
      "text/plain": [
       "'Future <Future: finished, type: int, key: func-dd3384d945e40e0aa29a98de762de76d> result: 6'"
      ]
     },
     "metadata": {},
     "output_type": "display_data"
    },
    {
     "data": {
      "text/plain": [
       "'Future <Future: finished, type: int, key: func-7dc2a0352e59de8de60655f054b9d34c> result: 171'"
      ]
     },
     "metadata": {},
     "output_type": "display_data"
    },
    {
     "data": {
      "text/plain": [
       "'Future <Future: finished, type: int, key: func-4394c55205c9dab823dc3ab04a76dc3e> result: 210'"
      ]
     },
     "metadata": {},
     "output_type": "display_data"
    },
    {
     "data": {
      "text/plain": [
       "'Future <Future: finished, type: int, key: func-2f86059c4e16422a4ec5b4769e1d073c> result: 10'"
      ]
     },
     "metadata": {},
     "output_type": "display_data"
    },
    {
     "data": {
      "text/plain": [
       "'Future <Future: finished, type: int, key: func-d1ec18113530de218023e4c1e6420493> result: 45'"
      ]
     },
     "metadata": {},
     "output_type": "display_data"
    },
    {
     "data": {
      "text/plain": [
       "'Future <Future: finished, type: int, key: func-1c19ee575c36628564e46914a912411f> result: 66'"
      ]
     },
     "metadata": {},
     "output_type": "display_data"
    },
    {
     "data": {
      "text/plain": [
       "'Future <Future: finished, type: int, key: func-62b4e0012cc4bf1f559ac3c6d83327a7> result: 153'"
      ]
     },
     "metadata": {},
     "output_type": "display_data"
    },
    {
     "data": {
      "text/plain": [
       "'Future <Future: finished, type: int, key: func-468b1d4bbd768f02b732e326cb3c1e39> result: 28'"
      ]
     },
     "metadata": {},
     "output_type": "display_data"
    },
    {
     "data": {
      "text/plain": [
       "'Future <Future: finished, type: int, key: func-b49032b50832bb1a8680ee100816d382> result: 435'"
      ]
     },
     "metadata": {},
     "output_type": "display_data"
    },
    {
     "data": {
      "text/plain": [
       "'Future <Future: finished, type: int, key: func-92b07e28cf4f18cf125fe855e93b6fc1> result: 378'"
      ]
     },
     "metadata": {},
     "output_type": "display_data"
    },
    {
     "data": {
      "text/plain": [
       "'Future <Future: finished, type: int, key: func-d1ec18113530de218023e4c1e6420493> result: 45'"
      ]
     },
     "metadata": {},
     "output_type": "display_data"
    },
    {
     "data": {
      "text/plain": [
       "'Future <Future: finished, type: int, key: func-79e992313a2ea7d4f274a72197c07eaa> result: 300'"
      ]
     },
     "metadata": {},
     "output_type": "display_data"
    },
    {
     "data": {
      "text/plain": [
       "'Future <Future: finished, type: int, key: func-dce2320793bf324fdb8445dcb3cb1f61> result: 231'"
      ]
     },
     "metadata": {},
     "output_type": "display_data"
    },
    {
     "data": {
      "text/plain": [
       "'Future <Future: finished, type: int, key: func-7de22011fd0cbb5bb552fbd734c0cf93> result: 3'"
      ]
     },
     "metadata": {},
     "output_type": "display_data"
    },
    {
     "data": {
      "text/plain": [
       "'Future <Future: finished, type: int, key: func-b084e3430cfd46cf245c15cf9cc36ddf> result: 78'"
      ]
     },
     "metadata": {},
     "output_type": "display_data"
    },
    {
     "data": {
      "text/plain": [
       "'Future <Future: finished, type: int, key: func-7dc2a0352e59de8de60655f054b9d34c> result: 171'"
      ]
     },
     "metadata": {},
     "output_type": "display_data"
    },
    {
     "data": {
      "text/plain": [
       "'Future <Future: finished, type: int, key: func-1c19ee575c36628564e46914a912411f> result: 66'"
      ]
     },
     "metadata": {},
     "output_type": "display_data"
    },
    {
     "data": {
      "text/plain": [
       "'Future <Future: finished, type: int, key: func-5855603231b69ce55bdecac66619be13> result: 91'"
      ]
     },
     "metadata": {},
     "output_type": "display_data"
    },
    {
     "data": {
      "text/plain": [
       "'Future <Future: finished, type: int, key: func-816c2aeb6f3bc85ea08b1584357d56e5> result: 276'"
      ]
     },
     "metadata": {},
     "output_type": "display_data"
    },
    {
     "data": {
      "text/plain": [
       "'Future <Future: finished, type: int, key: func-79e992313a2ea7d4f274a72197c07eaa> result: 300'"
      ]
     },
     "metadata": {},
     "output_type": "display_data"
    },
    {
     "data": {
      "text/plain": [
       "'Future <Future: finished, type: int, key: func-eba18ae3b3ed99083ac845a44b500024> result: 36'"
      ]
     },
     "metadata": {},
     "output_type": "display_data"
    },
    {
     "data": {
      "text/plain": [
       "'Future <Future: finished, type: int, key: func-1c19ee575c36628564e46914a912411f> result: 66'"
      ]
     },
     "metadata": {},
     "output_type": "display_data"
    },
    {
     "data": {
      "text/plain": [
       "'Future <Future: finished, type: int, key: func-62b4e0012cc4bf1f559ac3c6d83327a7> result: 153'"
      ]
     },
     "metadata": {},
     "output_type": "display_data"
    },
    {
     "data": {
      "text/plain": [
       "'Future <Future: finished, type: int, key: func-79e992313a2ea7d4f274a72197c07eaa> result: 300'"
      ]
     },
     "metadata": {},
     "output_type": "display_data"
    },
    {
     "data": {
      "text/plain": [
       "'Future <Future: finished, type: int, key: func-5d4711d4014fbcd5eed8ddb4309f3f55> result: 190'"
      ]
     },
     "metadata": {},
     "output_type": "display_data"
    },
    {
     "data": {
      "text/plain": [
       "'Future <Future: finished, type: int, key: func-8880c6054d387c23733fdfe7109e7a8c> result: 120'"
      ]
     },
     "metadata": {},
     "output_type": "display_data"
    },
    {
     "data": {
      "text/plain": [
       "'Future <Future: finished, type: int, key: func-9f345cca5a2a7c4130573772f534adcf> result: 136'"
      ]
     },
     "metadata": {},
     "output_type": "display_data"
    },
    {
     "data": {
      "text/plain": [
       "'Future <Future: finished, type: int, key: func-7dc2a0352e59de8de60655f054b9d34c> result: 171'"
      ]
     },
     "metadata": {},
     "output_type": "display_data"
    },
    {
     "data": {
      "text/plain": [
       "'Future <Future: finished, type: int, key: func-9f345cca5a2a7c4130573772f534adcf> result: 136'"
      ]
     },
     "metadata": {},
     "output_type": "display_data"
    },
    {
     "data": {
      "text/plain": [
       "'Future <Future: finished, type: int, key: func-79e992313a2ea7d4f274a72197c07eaa> result: 300'"
      ]
     },
     "metadata": {},
     "output_type": "display_data"
    },
    {
     "data": {
      "text/plain": [
       "'Future <Future: finished, type: int, key: func-76332bfcf4d44445c162f12b40904b9b> result: 253'"
      ]
     },
     "metadata": {},
     "output_type": "display_data"
    },
    {
     "data": {
      "text/plain": [
       "'Future <Future: finished, type: int, key: func-b084e3430cfd46cf245c15cf9cc36ddf> result: 78'"
      ]
     },
     "metadata": {},
     "output_type": "display_data"
    },
    {
     "data": {
      "text/plain": [
       "'Future <Future: finished, type: int, key: func-afdc00efcf9b82f42a48e180b16e8d3f> result: 351'"
      ]
     },
     "metadata": {},
     "output_type": "display_data"
    },
    {
     "data": {
      "text/plain": [
       "'Future <Future: finished, type: int, key: func-5d4711d4014fbcd5eed8ddb4309f3f55> result: 190'"
      ]
     },
     "metadata": {},
     "output_type": "display_data"
    },
    {
     "data": {
      "text/plain": [
       "'Future <Future: finished, type: int, key: func-2a878e8a0788c4eae120093633041144> result: 15'"
      ]
     },
     "metadata": {},
     "output_type": "display_data"
    },
    {
     "data": {
      "text/plain": [
       "'Future <Future: finished, type: int, key: func-b49032b50832bb1a8680ee100816d382> result: 435'"
      ]
     },
     "metadata": {},
     "output_type": "display_data"
    },
    {
     "data": {
      "text/plain": [
       "'Future <Future: finished, type: int, key: func-24cd6ba9d797b4d5e28963b5a28305ba> result: 1'"
      ]
     },
     "metadata": {},
     "output_type": "display_data"
    },
    {
     "data": {
      "text/plain": [
       "'Future <Future: finished, type: int, key: func-b49032b50832bb1a8680ee100816d382> result: 435'"
      ]
     },
     "metadata": {},
     "output_type": "display_data"
    },
    {
     "data": {
      "text/plain": [
       "'Future <Future: finished, type: int, key: func-92b07e28cf4f18cf125fe855e93b6fc1> result: 378'"
      ]
     },
     "metadata": {},
     "output_type": "display_data"
    },
    {
     "data": {
      "text/plain": [
       "'Future <Future: finished, type: int, key: func-13f0ad62ef88798a3eb337b224b9096f> result: 55'"
      ]
     },
     "metadata": {},
     "output_type": "display_data"
    },
    {
     "data": {
      "text/plain": [
       "'Future <Future: finished, type: int, key: func-13f0ad62ef88798a3eb337b224b9096f> result: 55'"
      ]
     },
     "metadata": {},
     "output_type": "display_data"
    },
    {
     "data": {
      "text/plain": [
       "'Future <Future: finished, type: int, key: func-eba18ae3b3ed99083ac845a44b500024> result: 36'"
      ]
     },
     "metadata": {},
     "output_type": "display_data"
    },
    {
     "data": {
      "text/plain": [
       "'Future <Future: finished, type: int, key: func-1c19ee575c36628564e46914a912411f> result: 66'"
      ]
     },
     "metadata": {},
     "output_type": "display_data"
    },
    {
     "data": {
      "text/plain": [
       "'Future <Future: finished, type: int, key: func-e57ae0c17f12dac8a93ee88ad4929fe6> result: 0'"
      ]
     },
     "metadata": {},
     "output_type": "display_data"
    },
    {
     "data": {
      "text/plain": [
       "'Future <Future: finished, type: int, key: func-47dbab8de7cb3147009ae631cceeed8a> result: 21'"
      ]
     },
     "metadata": {},
     "output_type": "display_data"
    },
    {
     "data": {
      "text/plain": [
       "'Future <Future: finished, type: int, key: func-79e992313a2ea7d4f274a72197c07eaa> result: 300'"
      ]
     },
     "metadata": {},
     "output_type": "display_data"
    },
    {
     "data": {
      "text/plain": [
       "'Future <Future: finished, type: int, key: func-79e992313a2ea7d4f274a72197c07eaa> result: 300'"
      ]
     },
     "metadata": {},
     "output_type": "display_data"
    },
    {
     "data": {
      "text/plain": [
       "'Future <Future: finished, type: int, key: func-43b6d26b6b9939a8d33a235708080d37> result: 105'"
      ]
     },
     "metadata": {},
     "output_type": "display_data"
    },
    {
     "data": {
      "text/plain": [
       "'Future <Future: finished, type: int, key: func-b084e3430cfd46cf245c15cf9cc36ddf> result: 78'"
      ]
     },
     "metadata": {},
     "output_type": "display_data"
    },
    {
     "data": {
      "text/plain": [
       "'Future <Future: finished, type: int, key: func-4394c55205c9dab823dc3ab04a76dc3e> result: 210'"
      ]
     },
     "metadata": {},
     "output_type": "display_data"
    },
    {
     "data": {
      "text/plain": [
       "'Future <Future: finished, type: int, key: func-4394c55205c9dab823dc3ab04a76dc3e> result: 210'"
      ]
     },
     "metadata": {},
     "output_type": "display_data"
    },
    {
     "data": {
      "text/plain": [
       "'Future <Future: finished, type: int, key: func-620315f9cee38568ffb707c474267307> result: 325'"
      ]
     },
     "metadata": {},
     "output_type": "display_data"
    },
    {
     "data": {
      "text/plain": [
       "'Future <Future: finished, type: int, key: func-dce2320793bf324fdb8445dcb3cb1f61> result: 231'"
      ]
     },
     "metadata": {},
     "output_type": "display_data"
    },
    {
     "data": {
      "text/plain": [
       "'Future <Future: finished, type: int, key: func-4394c55205c9dab823dc3ab04a76dc3e> result: 210'"
      ]
     },
     "metadata": {},
     "output_type": "display_data"
    },
    {
     "data": {
      "text/plain": [
       "'Future <Future: finished, type: int, key: func-b49032b50832bb1a8680ee100816d382> result: 435'"
      ]
     },
     "metadata": {},
     "output_type": "display_data"
    },
    {
     "data": {
      "text/plain": [
       "'Future <Future: finished, type: int, key: func-d1ec18113530de218023e4c1e6420493> result: 45'"
      ]
     },
     "metadata": {},
     "output_type": "display_data"
    }
   ],
   "source": [
    "from dask.distributed import as_completed\n",
    "\n",
    "# display(len(set(task_list)))  # kontrolnie\n",
    "\n",
    "for num, batch in enumerate(as_completed(futures2, with_results=True).batches(), start=1):\n",
    "   display(f\"Batch {num}\")\n",
    "   for future, result in batch:\n",
    "       # przetwarzaj kolejną paczkę ukończonych futures\n",
    "       display(f\"Future {future} result: {result}\")"
   ]
  },
  {
   "cell_type": "code",
   "execution_count": 31,
   "metadata": {},
   "outputs": [
    {
     "data": {
      "text/html": [
       "<table>\n",
       "    <tr>\n",
       "        <th>Key</th>\n",
       "        <th>Copies</th>\n",
       "        <th>Workers</th>\n",
       "    </tr>\n",
       "\n",
       "    \n",
       "    <tr>\n",
       "        <td>func-13f0ad62ef88798a3eb337b224b9096f</td>\n",
       "        <td>1</td>\n",
       "        <td>tcp://127.0.0.1:51590</td>\n",
       "    </tr>\n",
       "    \n",
       "    <tr>\n",
       "        <td>func-9f345cca5a2a7c4130573772f534adcf</td>\n",
       "        <td>1</td>\n",
       "        <td>tcp://127.0.0.1:51590</td>\n",
       "    </tr>\n",
       "    \n",
       "    <tr>\n",
       "        <td>func-eba18ae3b3ed99083ac845a44b500024</td>\n",
       "        <td>1</td>\n",
       "        <td>tcp://127.0.0.1:51596</td>\n",
       "    </tr>\n",
       "    \n",
       "    <tr>\n",
       "        <td>func-5855603231b69ce55bdecac66619be13</td>\n",
       "        <td>1</td>\n",
       "        <td>tcp://127.0.0.1:51593</td>\n",
       "    </tr>\n",
       "    \n",
       "    <tr>\n",
       "        <td>func-dd3384d945e40e0aa29a98de762de76d</td>\n",
       "        <td>1</td>\n",
       "        <td>tcp://127.0.0.1:51593</td>\n",
       "    </tr>\n",
       "    \n",
       "    <tr>\n",
       "        <td>func-2f86059c4e16422a4ec5b4769e1d073c</td>\n",
       "        <td>1</td>\n",
       "        <td>tcp://127.0.0.1:51590</td>\n",
       "    </tr>\n",
       "    \n",
       "    <tr>\n",
       "        <td>func-47dbab8de7cb3147009ae631cceeed8a</td>\n",
       "        <td>1</td>\n",
       "        <td>tcp://127.0.0.1:51590</td>\n",
       "    </tr>\n",
       "    \n",
       "    <tr>\n",
       "        <td>func-24cd6ba9d797b4d5e28963b5a28305ba</td>\n",
       "        <td>1</td>\n",
       "        <td>tcp://127.0.0.1:51597</td>\n",
       "    </tr>\n",
       "    \n",
       "    <tr>\n",
       "        <td>func-76332bfcf4d44445c162f12b40904b9b</td>\n",
       "        <td>1</td>\n",
       "        <td>tcp://127.0.0.1:51596</td>\n",
       "    </tr>\n",
       "    \n",
       "    <tr>\n",
       "        <td>func-1c19ee575c36628564e46914a912411f</td>\n",
       "        <td>1</td>\n",
       "        <td>tcp://127.0.0.1:51597</td>\n",
       "    </tr>\n",
       "    \n",
       "    <tr>\n",
       "        <td>func-7dc2a0352e59de8de60655f054b9d34c</td>\n",
       "        <td>1</td>\n",
       "        <td>tcp://127.0.0.1:51593</td>\n",
       "    </tr>\n",
       "    \n",
       "    <tr>\n",
       "        <td>func-43b6d26b6b9939a8d33a235708080d37</td>\n",
       "        <td>1</td>\n",
       "        <td>tcp://127.0.0.1:51596</td>\n",
       "    </tr>\n",
       "    \n",
       "    <tr>\n",
       "        <td>func-79e992313a2ea7d4f274a72197c07eaa</td>\n",
       "        <td>1</td>\n",
       "        <td>tcp://127.0.0.1:51597</td>\n",
       "    </tr>\n",
       "    \n",
       "    <tr>\n",
       "        <td>func-8880c6054d387c23733fdfe7109e7a8c</td>\n",
       "        <td>1</td>\n",
       "        <td>tcp://127.0.0.1:51597</td>\n",
       "    </tr>\n",
       "    \n",
       "    <tr>\n",
       "        <td>func-92b07e28cf4f18cf125fe855e93b6fc1</td>\n",
       "        <td>1</td>\n",
       "        <td>tcp://127.0.0.1:51593</td>\n",
       "    </tr>\n",
       "    \n",
       "    <tr>\n",
       "        <td>func-5d4711d4014fbcd5eed8ddb4309f3f55</td>\n",
       "        <td>1</td>\n",
       "        <td>tcp://127.0.0.1:51590</td>\n",
       "    </tr>\n",
       "    \n",
       "    <tr>\n",
       "        <td>func-7de22011fd0cbb5bb552fbd734c0cf93</td>\n",
       "        <td>1</td>\n",
       "        <td>tcp://127.0.0.1:51597</td>\n",
       "    </tr>\n",
       "    \n",
       "    <tr>\n",
       "        <td>func-816c2aeb6f3bc85ea08b1584357d56e5</td>\n",
       "        <td>1</td>\n",
       "        <td>tcp://127.0.0.1:51590</td>\n",
       "    </tr>\n",
       "    \n",
       "    <tr>\n",
       "        <td>func-2a878e8a0788c4eae120093633041144</td>\n",
       "        <td>1</td>\n",
       "        <td>tcp://127.0.0.1:51596</td>\n",
       "    </tr>\n",
       "    \n",
       "    <tr>\n",
       "        <td>func-62b4e0012cc4bf1f559ac3c6d83327a7</td>\n",
       "        <td>1</td>\n",
       "        <td>tcp://127.0.0.1:51596</td>\n",
       "    </tr>\n",
       "    \n",
       "    <tr>\n",
       "        <td>func-d1ec18113530de218023e4c1e6420493</td>\n",
       "        <td>1</td>\n",
       "        <td>tcp://127.0.0.1:51590</td>\n",
       "    </tr>\n",
       "    \n",
       "    <tr>\n",
       "        <td>func-4394c55205c9dab823dc3ab04a76dc3e</td>\n",
       "        <td>1</td>\n",
       "        <td>tcp://127.0.0.1:51593</td>\n",
       "    </tr>\n",
       "    \n",
       "    <tr>\n",
       "        <td>func-dce2320793bf324fdb8445dcb3cb1f61</td>\n",
       "        <td>1</td>\n",
       "        <td>tcp://127.0.0.1:51597</td>\n",
       "    </tr>\n",
       "    \n",
       "    <tr>\n",
       "        <td>func-e57ae0c17f12dac8a93ee88ad4929fe6</td>\n",
       "        <td>1</td>\n",
       "        <td>tcp://127.0.0.1:51593</td>\n",
       "    </tr>\n",
       "    \n",
       "    <tr>\n",
       "        <td>func-620315f9cee38568ffb707c474267307</td>\n",
       "        <td>1</td>\n",
       "        <td>tcp://127.0.0.1:51596</td>\n",
       "    </tr>\n",
       "    \n",
       "    <tr>\n",
       "        <td>func-468b1d4bbd768f02b732e326cb3c1e39</td>\n",
       "        <td>1</td>\n",
       "        <td>tcp://127.0.0.1:51596</td>\n",
       "    </tr>\n",
       "    \n",
       "    <tr>\n",
       "        <td>func-b084e3430cfd46cf245c15cf9cc36ddf</td>\n",
       "        <td>1</td>\n",
       "        <td>tcp://127.0.0.1:51597</td>\n",
       "    </tr>\n",
       "    \n",
       "    <tr>\n",
       "        <td>func-b49032b50832bb1a8680ee100816d382</td>\n",
       "        <td>1</td>\n",
       "        <td>tcp://127.0.0.1:51597</td>\n",
       "    </tr>\n",
       "    \n",
       "    <tr>\n",
       "        <td>func-07ce920493632c004701f1dbb28511a8</td>\n",
       "        <td>1</td>\n",
       "        <td>tcp://127.0.0.1:51597</td>\n",
       "    </tr>\n",
       "    \n",
       "    <tr>\n",
       "        <td>func-afdc00efcf9b82f42a48e180b16e8d3f</td>\n",
       "        <td>1</td>\n",
       "        <td>tcp://127.0.0.1:51593</td>\n",
       "    </tr>\n",
       "    \n",
       "</table>"
      ],
      "text/plain": [
       "{'func-13f0ad62ef88798a3eb337b224b9096f': ('tcp://127.0.0.1:51590',),\n",
       " 'func-9f345cca5a2a7c4130573772f534adcf': ('tcp://127.0.0.1:51590',),\n",
       " 'func-eba18ae3b3ed99083ac845a44b500024': ('tcp://127.0.0.1:51596',),\n",
       " 'func-5855603231b69ce55bdecac66619be13': ('tcp://127.0.0.1:51593',),\n",
       " 'func-dd3384d945e40e0aa29a98de762de76d': ('tcp://127.0.0.1:51593',),\n",
       " 'func-2f86059c4e16422a4ec5b4769e1d073c': ('tcp://127.0.0.1:51590',),\n",
       " 'func-47dbab8de7cb3147009ae631cceeed8a': ('tcp://127.0.0.1:51590',),\n",
       " 'func-24cd6ba9d797b4d5e28963b5a28305ba': ('tcp://127.0.0.1:51597',),\n",
       " 'func-76332bfcf4d44445c162f12b40904b9b': ('tcp://127.0.0.1:51596',),\n",
       " 'func-1c19ee575c36628564e46914a912411f': ('tcp://127.0.0.1:51597',),\n",
       " 'func-7dc2a0352e59de8de60655f054b9d34c': ('tcp://127.0.0.1:51593',),\n",
       " 'func-43b6d26b6b9939a8d33a235708080d37': ('tcp://127.0.0.1:51596',),\n",
       " 'func-79e992313a2ea7d4f274a72197c07eaa': ('tcp://127.0.0.1:51597',),\n",
       " 'func-8880c6054d387c23733fdfe7109e7a8c': ('tcp://127.0.0.1:51597',),\n",
       " 'func-92b07e28cf4f18cf125fe855e93b6fc1': ('tcp://127.0.0.1:51593',),\n",
       " 'func-5d4711d4014fbcd5eed8ddb4309f3f55': ('tcp://127.0.0.1:51590',),\n",
       " 'func-7de22011fd0cbb5bb552fbd734c0cf93': ('tcp://127.0.0.1:51597',),\n",
       " 'func-816c2aeb6f3bc85ea08b1584357d56e5': ('tcp://127.0.0.1:51590',),\n",
       " 'func-2a878e8a0788c4eae120093633041144': ('tcp://127.0.0.1:51596',),\n",
       " 'func-62b4e0012cc4bf1f559ac3c6d83327a7': ('tcp://127.0.0.1:51596',),\n",
       " 'func-d1ec18113530de218023e4c1e6420493': ('tcp://127.0.0.1:51590',),\n",
       " 'func-4394c55205c9dab823dc3ab04a76dc3e': ('tcp://127.0.0.1:51593',),\n",
       " 'func-dce2320793bf324fdb8445dcb3cb1f61': ('tcp://127.0.0.1:51597',),\n",
       " 'func-e57ae0c17f12dac8a93ee88ad4929fe6': ('tcp://127.0.0.1:51593',),\n",
       " 'func-620315f9cee38568ffb707c474267307': ('tcp://127.0.0.1:51596',),\n",
       " 'func-468b1d4bbd768f02b732e326cb3c1e39': ('tcp://127.0.0.1:51596',),\n",
       " 'func-b084e3430cfd46cf245c15cf9cc36ddf': ('tcp://127.0.0.1:51597',),\n",
       " 'func-b49032b50832bb1a8680ee100816d382': ('tcp://127.0.0.1:51597',),\n",
       " 'func-07ce920493632c004701f1dbb28511a8': ('tcp://127.0.0.1:51597',),\n",
       " 'func-afdc00efcf9b82f42a48e180b16e8d3f': ('tcp://127.0.0.1:51593',)}"
      ]
     },
     "execution_count": 31,
     "metadata": {},
     "output_type": "execute_result"
    }
   ],
   "source": [
    "client.who_has(futures2)"
   ]
  },
  {
   "attachments": {
    "image.png": {
     "image/png": "[encoded data removed]"
    }
   },
   "cell_type": "markdown",
   "metadata": {},
   "source": [
    "![image.png](attachment:image.png)"
   ]
  },
  {
   "cell_type": "markdown",
   "metadata": {},
   "source": [
    "Tak jak widać wyżej, futures o tych samych wynikach to te same wyliczenia, Dask nie wykonuje tego samego kilkukrotnie, wykorzystuje wyniki z cache."
   ]
  },
  {
   "cell_type": "markdown",
   "metadata": {},
   "source": [
    "## Zadanie 2\n",
    "Wykorzystując przykłady zaprezentowane w labie wykonaj na danych people (możesz zmniejszyć lub zwiększyć ich wolumen w zależności od potrzeb) operację z użyciem Dask bag, która polegać będzie na przetworzeniu wszystkich plików i zapisaniu do plików o nazwie expired_{partition}.json rekordów, których ważność karty kredytowej wygasła (jest to wartość w formacie miesiąc/rok). Zapisując ustaw finalną liczbę plików na 10 jeżeli była inna. Możesz to zrobić poprzez zmianę ilość partycji dask bag (patrz link do API na początku laba)."
   ]
  },
  {
   "cell_type": "code",
   "execution_count": 1,
   "metadata": {},
   "outputs": [],
   "source": [
    "from dask.distributed import Client\n",
    "import dask\n",
    "import dask.bag as db\n",
    "import json\n",
    "import os\n",
    "\n",
    "# client = Client(n_workers=4)\n",
    "\n",
    "DATAPATH = './data'\n",
    "os.makedirs(DATAPATH, exist_ok=True)\n",
    "\n",
    "b = dask.datasets.make_people(npartitions=100, records_per_partition=10000)\n",
    "\n",
    "def expired_credit_card(record):\n",
    "    expiry_date = record.get('cc_exp', '00/00')  # format miesiąc/rok\n",
    "    month, year = map(int, expiry_date.split('/'))\n",
    "    return (year < 2024) or (year == 2024 and month < 10)\n",
    "\n",
    "expired_records = b.filter(expired_credit_card)"
   ]
  },
  {
   "cell_type": "code",
   "execution_count": 2,
   "metadata": {},
   "outputs": [
    {
     "data": {
      "text/plain": [
       "['c:/Users/karol/GitHub/analiza_duzych_zbiorow_danych/lab03/data/expired_0.json',\n",
       " 'c:/Users/karol/GitHub/analiza_duzych_zbiorow_danych/lab03/data/expired_1.json',\n",
       " 'c:/Users/karol/GitHub/analiza_duzych_zbiorow_danych/lab03/data/expired_2.json',\n",
       " 'c:/Users/karol/GitHub/analiza_duzych_zbiorow_danych/lab03/data/expired_3.json',\n",
       " 'c:/Users/karol/GitHub/analiza_duzych_zbiorow_danych/lab03/data/expired_4.json',\n",
       " 'c:/Users/karol/GitHub/analiza_duzych_zbiorow_danych/lab03/data/expired_5.json',\n",
       " 'c:/Users/karol/GitHub/analiza_duzych_zbiorow_danych/lab03/data/expired_6.json',\n",
       " 'c:/Users/karol/GitHub/analiza_duzych_zbiorow_danych/lab03/data/expired_7.json',\n",
       " 'c:/Users/karol/GitHub/analiza_duzych_zbiorow_danych/lab03/data/expired_8.json',\n",
       " 'c:/Users/karol/GitHub/analiza_duzych_zbiorow_danych/lab03/data/expired_9.json']"
      ]
     },
     "execution_count": 2,
     "metadata": {},
     "output_type": "execute_result"
    }
   ],
   "source": [
    "expired_records = expired_records.repartition(10)\n",
    "expired_records.map(json.dumps).to_textfiles(os.path.join(DATAPATH, 'expired_*.json'))"
   ]
  },
  {
   "attachments": {
    "image.png": {
     "image/png": "[encoded data removed]"
    }
   },
   "cell_type": "markdown",
   "metadata": {},
   "source": [
    "![image.png](attachment:image.png)"
   ]
  },
  {
   "cell_type": "markdown",
   "metadata": {},
   "source": [
    "## Zadanie 3\n",
    "Wybierając z danych people dane tylko osób dorosłych (zaprezentowane w przykładach w tym labie) przechowaj je w obiekcie typu bag, a następnie zapisz je do dask dataframe za pomocą metody to_dataframe (pamiętaj o tym jaka jest aktualna struktura pojedynczego rekordu), a następnie zapisz do jednego pliku w formacie parquet."
   ]
  },
  {
   "cell_type": "code",
   "execution_count": 8,
   "metadata": {},
   "outputs": [],
   "source": [
    "from dask.distributed import Client\n",
    "import dask\n",
    "import dask.bag as db\n",
    "import dask.dataframe as dd\n",
    "import os\n",
    "import json\n",
    "\n",
    "# client = Client(n_workers=4)\n",
    "b = dask.datasets.make_people(npartitions=100, records_per_partition=10000)\n",
    "\n",
    "def is_adult(record):\n",
    "    return record.get('age', 0) >= 18\n",
    "\n",
    "adults = b.filter(is_adult)\n",
    "\n",
    "df = adults.to_dataframe()\n",
    "df_single_partition = df.repartition(npartitions=1)\n",
    "df_single_partition.to_parquet('./data/adults_data.parquet', write_index=False)"
   ]
  },
  {
   "cell_type": "code",
   "execution_count": 6,
   "metadata": {},
   "outputs": [
    {
     "data": {
      "text/html": [
       "<div>\n",
       "<style scoped>\n",
       "    .dataframe tbody tr th:only-of-type {\n",
       "        vertical-align: middle;\n",
       "    }\n",
       "\n",
       "    .dataframe tbody tr th {\n",
       "        vertical-align: top;\n",
       "    }\n",
       "\n",
       "    .dataframe thead th {\n",
       "        text-align: right;\n",
       "    }\n",
       "</style>\n",
       "<table border=\"1\" class=\"dataframe\">\n",
       "  <thead>\n",
       "    <tr style=\"text-align: right;\">\n",
       "      <th></th>\n",
       "      <th>age</th>\n",
       "      <th>name</th>\n",
       "      <th>occupation</th>\n",
       "      <th>telephone</th>\n",
       "      <th>address</th>\n",
       "      <th>credit-card</th>\n",
       "    </tr>\n",
       "  </thead>\n",
       "  <tbody>\n",
       "    <tr>\n",
       "      <th>0</th>\n",
       "      <td>47</td>\n",
       "      <td>('Gilberte', 'Rich')</td>\n",
       "      <td>Auxiliary Nurse</td>\n",
       "      <td>+17528614872</td>\n",
       "      <td>{'address': '369 Catalina Parkway', 'city': 'M...</td>\n",
       "      <td>{'number': '3720 452992 74865', 'expiration-da...</td>\n",
       "    </tr>\n",
       "    <tr>\n",
       "      <th>1</th>\n",
       "      <td>24</td>\n",
       "      <td>('Kizzie', 'Humphrey')</td>\n",
       "      <td>Bodyshop</td>\n",
       "      <td>+1-713-570-6288</td>\n",
       "      <td>{'address': '1079 Hobart Manor', 'city': 'Lanc...</td>\n",
       "      <td>{'number': '2450 1290 7746 0648', 'expiration-...</td>\n",
       "    </tr>\n",
       "    <tr>\n",
       "      <th>2</th>\n",
       "      <td>47</td>\n",
       "      <td>('Lashaun', 'Arnold')</td>\n",
       "      <td>Radio Director</td>\n",
       "      <td>+1-628-025-3451</td>\n",
       "      <td>{'address': '1027 Hooker Freeway', 'city': 'St...</td>\n",
       "      <td>{'number': '5107 2915 6759 0134', 'expiration-...</td>\n",
       "    </tr>\n",
       "    <tr>\n",
       "      <th>3</th>\n",
       "      <td>92</td>\n",
       "      <td>('Virgilio', 'Foreman')</td>\n",
       "      <td>Tax Inspector</td>\n",
       "      <td>+17026138589</td>\n",
       "      <td>{'address': '83 Lapham Mews', 'city': 'Washing...</td>\n",
       "      <td>{'number': '5439 7019 5629 4733', 'expiration-...</td>\n",
       "    </tr>\n",
       "    <tr>\n",
       "      <th>4</th>\n",
       "      <td>23</td>\n",
       "      <td>('Eric', 'Francis')</td>\n",
       "      <td>Receptionist</td>\n",
       "      <td>+1-802-904-8338</td>\n",
       "      <td>{'address': '384 East Street', 'city': 'Gadsden'}</td>\n",
       "      <td>{'number': '5409 0310 6267 4115', 'expiration-...</td>\n",
       "    </tr>\n",
       "  </tbody>\n",
       "</table>\n",
       "</div>"
      ],
      "text/plain": [
       "   age                     name       occupation        telephone  \\\n",
       "0   47     ('Gilberte', 'Rich')  Auxiliary Nurse     +17528614872   \n",
       "1   24   ('Kizzie', 'Humphrey')         Bodyshop  +1-713-570-6288   \n",
       "2   47    ('Lashaun', 'Arnold')   Radio Director  +1-628-025-3451   \n",
       "3   92  ('Virgilio', 'Foreman')    Tax Inspector     +17026138589   \n",
       "4   23      ('Eric', 'Francis')     Receptionist  +1-802-904-8338   \n",
       "\n",
       "                                             address  \\\n",
       "0  {'address': '369 Catalina Parkway', 'city': 'M...   \n",
       "1  {'address': '1079 Hobart Manor', 'city': 'Lanc...   \n",
       "2  {'address': '1027 Hooker Freeway', 'city': 'St...   \n",
       "3  {'address': '83 Lapham Mews', 'city': 'Washing...   \n",
       "4  {'address': '384 East Street', 'city': 'Gadsden'}   \n",
       "\n",
       "                                         credit-card  \n",
       "0  {'number': '3720 452992 74865', 'expiration-da...  \n",
       "1  {'number': '2450 1290 7746 0648', 'expiration-...  \n",
       "2  {'number': '5107 2915 6759 0134', 'expiration-...  \n",
       "3  {'number': '5439 7019 5629 4733', 'expiration-...  \n",
       "4  {'number': '5409 0310 6267 4115', 'expiration-...  "
      ]
     },
     "execution_count": 6,
     "metadata": {},
     "output_type": "execute_result"
    }
   ],
   "source": [
    "df.head()"
   ]
  },
  {
   "cell_type": "markdown",
   "metadata": {},
   "source": [
    "## 4. Lokalny klaster w pracowni komputerowej.\n",
    "Scenariusz skonfigurowania i przetestowania klastra w pracowni komputerowej zakłada:\n",
    "\n",
    "zdefiniowanie jednego lub kilku maszyn jako schedulerów klastra Dask (można część zasobów skonfigurować jednocześnie jako worker),\n",
    "podłączenie do schedulera workerów poprzez sieć lokalną, które są uruchomione na maszynach w pracowni komputerowej,\n",
    "wykonanie kilku zadań o zróżnicowanym stopniu skomplikowania i wykorzystania zasobów na skonfigurowanym klastrze.\n",
    "### 4.1 Wstępne wymagania elementów klastra.\n",
    "Dask (oraz większość systemów tego typu) zaleca, aby poszczególne elementy klastra zostały skonfigurowane na tej samej wersji środowiska obliczeniowego. W związku z tym zarówno na maszynie będącej schedulerem jak i na workerach należy przygotować środowisko wirtualne Pythona z tą samą wersją interpretera.\n",
    "Dokumentacja dla CLI dask poniższych poleceń: https://docs.dask.org/en/latest/deploying-cli.html\n",
    "\n",
    "#### Krok 1.\n",
    "Przygotowanie środowiska wirtualnego na wszystkich maszynach, które mają być częścią klastra:\n",
    "instalujemy interpreter Pythona w tej samej wersji,\n",
    "instalujemy również moduł dask distributed,\n",
    "#### Krok 2\n",
    "Uruchamiamy scheduler. Na wybranej maszynie (maszynach) uruchamiamy scheduler za pomocą polecenia `dask-scheduler` w konsoli Pythona z aktywowanym środowiskiem wirtualnym. Można równiez uruchomić scheduler w sposób przedstawiany do tej porty w załączonych notebookach. Notujemy adres IP oraz port, na którym działa scheduler klastra dask.\n",
    "#### Krok 3\n",
    "Dołączamy kolejne workery do klastra. W konsoli Python pozostałych maszyn, z aktywowanym środowiskiem wirtualnym Python, uruchamiamy workery poleceniem `dask-worker 192.168.1.1:8786 --nprocs 1 --nthreads 1 --memory-limit 2GB`, ustawiając odpowiedni adres IP oraz ilość procesów, wątków dla każdego workera.\n",
    "#### rok 4\n",
    "Z poziomu schedulera uruchamiamy zadania i śledzimy ich wykonanie w dashboardzie."
   ]
  },
  {
   "cell_type": "code",
   "execution_count": null,
   "metadata": {},
   "outputs": [],
   "source": [
    "# wspólne środowisko: Python 3.12.1 + pip install dask distributed\n",
    "# polecenie uruchamiania workerów: dask worker 192.168.20.15:8786 --nworkers 2 --nthreads 2 --memory-limit 2GB"
   ]
  },
  {
   "cell_type": "markdown",
   "metadata": {},
   "source": [
    "### 4.2 Scenariusze wykorzystania klastra.\n",
    "#### Scenariusz 1\n",
    "Uruchomienie pierwszego testowego zadania polegającego na przetworzeniu stosunkowo dużej tablicy dask na dostępnych workerach. Pamiętaj, że tworząc obiekt klienta możesz wskazać ile workerów chcesz wykorzystać na tym kliencie i to nie musi być całość dostępnych zasobów. Ważne jest również prześledzenie utylizacji workerów oraz struktury zadań (np. transfer danych między workerami) w dashboardzie. Dopasuj wielkość tablicy tak, aby wykorzystać dostępną pamięć RAM klastra w dość znacznym stopniu.\n",
    "\n",
    "#### Scenariusz 2\n",
    "W tym zadaniu należy przygotować wybrany zbiór danych na komputerze, na którym uruchomiony został scheduler i wykonać proces wczytania danych do wybranej kolekcji dask w sposób rozproszony. Ponownie monitoruj sposób pracy klastra w dashboardzie. Pierwsze uruchomienie powinno odbyć się na stosunkowo niewielkiej liczbie danych, z czasem należy ją zwiększyć tak, aby klaster był faktycznie zajęty czymś przez pewien czas (np. kilka minut). Tu można przywołać zadania z poprzedniego labu z danymi ze zbioru private_instagram lub zbiorami przedstawionymi w tym labie."
   ]
  }
 ],
 "metadata": {
  "kernelspec": {
   "display_name": ".venv",
   "language": "python",
   "name": "python3"
  },
  "language_info": {
   "codemirror_mode": {
    "name": "ipython",
    "version": 3
   },
   "file_extension": ".py",
   "mimetype": "text/x-python",
   "name": "python",
   "nbconvert_exporter": "python",
   "pygments_lexer": "ipython3",
   "version": "3.12.2"
  }
 },
 "nbformat": 4,
 "nbformat_minor": 2
}
