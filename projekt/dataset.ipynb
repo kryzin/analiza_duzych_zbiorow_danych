{
 "cells": [
  {
   "cell_type": "markdown",
   "metadata": {},
   "source": [
    "# Etap 1 - Pozyskanie danych\n",
    "\n",
    "Baza danych to rozegrane, ocenione gry w szachy z grudnia 2024 ze strony [lichess.org](https://database.lichess.org/#standard_games). Jest to 96,587,411 gier, zapisanych w skompresowanym formacie `PGN`, czyli standardowym formacie zapisu partii szachowych.\n",
    "\n",
    "# Etap 2 - Analiza eksploracyjna i preprocessing danych"
   ]
  },
  {
   "cell_type": "markdown",
   "metadata": {},
   "source": [
    "Przechodzę do podstawowych statystyk, sprawdzenia czy nie ma brakujących wartości."
   ]
  },
  {
   "cell_type": "code",
   "execution_count": 1,
   "metadata": {},
   "outputs": [
    {
     "name": "stdout",
     "output_type": "stream",
     "text": [
      "Dask dashboard: http://127.0.0.1:8787/status\n",
      "               Event                          Site           White  \\\n",
      "0  Rated Bullet game  https://lichess.org/8PwzdhWe   alphazero2045   \n",
      "1  Rated Bullet game  https://lichess.org/RbcEq0ws       Julochen2   \n",
      "2  Rated Bullet game  https://lichess.org/8zWyGLBF    morocco-2018   \n",
      "3  Rated Bullet game  https://lichess.org/ZxDr8SVV  wizzardcarlser   \n",
      "4   Rated Rapid game  https://lichess.org/t6ORyme0        Pirate91   \n",
      "\n",
      "                Black Result WhiteTitle BlackTitle  WhiteElo  BlackElo  \\\n",
      "0  Lamazukamba2555-17    1-0       <NA>       <NA>      2051      1966   \n",
      "1        Rasscolnikov    0-1       <NA>       <NA>      1775      1838   \n",
      "2       Youssef686587    0-1       <NA>       <NA>      1715      1729   \n",
      "3      TacticalMonkey    0-1       <NA>       <NA>      2670      2758   \n",
      "4              mzhadi    1-0       <NA>       <NA>      1204      1222   \n",
      "\n",
      "   WhiteRatingDiff  BlackRatingDiff     UTCDate   UTCTime  ECO  \\\n",
      "0              5.0             -4.0  2024-12-01  00:00:10  A40   \n",
      "1             -7.0              5.0  2024-12-01  00:00:10  B01   \n",
      "2             -6.0              5.0  2024-12-01  00:00:10  D31   \n",
      "3             -4.0              4.0  2024-12-01  00:00:10  A40   \n",
      "4              6.0             -7.0  2024-12-01  00:00:10  A43   \n",
      "\n",
      "                                             Opening   Termination  \\\n",
      "0                                    English Defense  Time forfeit   \n",
      "1                    Scandinavian Defense: Main Line  Time forfeit   \n",
      "2  Queen's Gambit Declined: Queen's Knight Variation  Time forfeit   \n",
      "3                  Queen's Pawn Game: Modern Defense        Normal   \n",
      "4                         Benoni Defense: Old Benoni  Time forfeit   \n",
      "\n",
      "  TimeControl                                           movetext  \n",
      "0        60+0  1. d4 { [%clk 0:01:00] } 1... b6 { [%clk 0:01:...  \n",
      "1        60+0  1. e4 { [%clk 0:01:00] } 1... d5 { [%clk 0:01:...  \n",
      "2        60+0  1. d4 { [%clk 0:01:00] } 1... e6 { [%clk 0:01:...  \n",
      "3        30+0  1. d4 { [%clk 0:00:30] } 1... g6 { [%clk 0:00:...  \n",
      "4       600+0  1. d4 { [%clk 0:10:00] } 1... c5 { [%clk 0:10:...  \n"
     ]
    }
   ],
   "source": [
    "import dask.dataframe as dd\n",
    "from dask.distributed import Client\n",
    "\n",
    "\n",
    "client = Client()\n",
    "print(f\"Dask dashboard: {client.dashboard_link}\")\n",
    "\n",
    "folder_path = \"data/\"\n",
    "ddf = dd.read_parquet(folder_path, engine=\"pyarrow\")\n",
    "print(ddf.head())\n"
   ]
  },
  {
   "cell_type": "code",
   "execution_count": 2,
   "metadata": {},
   "outputs": [
    {
     "name": "stdout",
     "output_type": "stream",
     "text": [
      "Event                     0\n",
      "Site                      0\n",
      "White                     0\n",
      "Black                     0\n",
      "Result                    0\n",
      "WhiteTitle         16587041\n",
      "BlackTitle         16586091\n",
      "WhiteElo                  0\n",
      "BlackElo                  0\n",
      "WhiteRatingDiff       58228\n",
      "BlackRatingDiff       58228\n",
      "UTCDate                   0\n",
      "UTCTime                   0\n",
      "ECO                   29546\n",
      "Opening                   0\n",
      "Termination               0\n",
      "TimeControl               0\n",
      "movetext                  0\n",
      "dtype: int64\n"
     ]
    }
   ],
   "source": [
    "missing = ddf.isnull().sum().compute()\n",
    "print(missing)"
   ]
  },
  {
   "cell_type": "markdown",
   "metadata": {},
   "source": [
    "Dane dostarczone przez Lichess są czyste, ponieważ gry zapisują się automatycznie jeśli są rozgrywane przez stronę internetową. W ramach preprocessingu wykonamy standardowe operacje: uzupełnienie brakujących oraz ujednolicimy system wyników (1-0 na `1`, 0-1 na `-1` oraz remis na `0`) usuniemy też Result=`*` - to gry niedokończone."
   ]
  },
  {
   "cell_type": "markdown",
   "metadata": {},
   "source": [
    "Brakujące wartości nie są niepokojące, dużo graczy nie posiada formalego tytułu. `ECO` określa kody otwarć z Encyclopaedia of Chess Openings, więc mogą zdarzyć się przypadki gier które zaczynają się na tyle chaotycznie, że nie nadano im kodu. `RatingDiff` to zmiana Elo po zakończeniu gry, ustawimy 0 dla remisu i +-5 dla innych.\n",
    "\n",
    "Żeby pracować bez wartości `null`, graczom bez tytułów nadamy tytuł `None`. `ECO` nadamy nowy kod (zwykle A-E00-99) `X`."
   ]
  },
  {
   "cell_type": "code",
   "execution_count": 3,
   "metadata": {},
   "outputs": [
    {
     "name": "stderr",
     "output_type": "stream",
     "text": [
      "c:\\Users\\karol\\GitHub\\analiza_duzych_zbiorow_danych\\.venv\\Lib\\site-packages\\dask_expr\\_collection.py:4196: UserWarning: \n",
      "You did not provide metadata, so Dask is running your function on a small dataset to guess output types. It is possible that Dask will guess incorrectly.\n",
      "To provide an explicit output types or to silence this message, please provide the `meta=` keyword, as described in the map or apply function that you are using.\n",
      "  Before: .apply(func)\n",
      "  After:  .apply(func, meta=('Result', 'float64'))\n",
      "\n",
      "  warnings.warn(meta_warning(meta))\n"
     ]
    }
   ],
   "source": [
    "import pandas as pd\n",
    "\n",
    "\n",
    "ddf['WhiteTitle'] = ddf['WhiteTitle'].fillna('None')\n",
    "ddf['BlackTitle'] = ddf['BlackTitle'].fillna('None')\n",
    "\n",
    "ddf = ddf[ddf['Result'] != '*']\n",
    "result_mapping = {'1-0': 0, '0-1': 1, '1/2-1/2': 2}\n",
    "ddf['Result'] = ddf['Result'].map(result_mapping).astype('int8')\n",
    "\n",
    "ddf['WhiteRatingDiff'] = ddf['WhiteRatingDiff'].fillna(0)\n",
    "ddf['WhiteRatingDiff'] = ddf['WhiteRatingDiff'].where(ddf['Result'] != '0', 5)\n",
    "ddf['WhiteRatingDiff'] = ddf['WhiteRatingDiff'].where(ddf['Result'] != '1', -5)\n",
    "ddf['BlackRatingDiff'] = ddf['BlackRatingDiff'].fillna(0)\n",
    "ddf['BlackRatingDiff'] = ddf['BlackRatingDiff'].where(ddf['Result'] != '1', 5)\n",
    "ddf['BlackRatingDiff'] = ddf['BlackRatingDiff'].where(ddf['Result'] != '0', -5)\n",
    "\n",
    "\n",
    "ddf['ECO'] = ddf['ECO'].fillna('X')"
   ]
  },
  {
   "cell_type": "code",
   "execution_count": 4,
   "metadata": {},
   "outputs": [
    {
     "name": "stdout",
     "output_type": "stream",
     "text": [
      "16683989\n"
     ]
    },
    {
     "data": {
      "text/plain": [
       "Event                   string[pyarrow]\n",
       "Site                    string[pyarrow]\n",
       "White                   string[pyarrow]\n",
       "Black                   string[pyarrow]\n",
       "Result                             int8\n",
       "WhiteTitle              string[pyarrow]\n",
       "BlackTitle              string[pyarrow]\n",
       "WhiteElo                          int16\n",
       "BlackElo                          int16\n",
       "WhiteRatingDiff                   int16\n",
       "BlackRatingDiff                   int16\n",
       "UTCDate            date32[day][pyarrow]\n",
       "UTCTime                          object\n",
       "ECO                     string[pyarrow]\n",
       "Opening                 string[pyarrow]\n",
       "Termination             string[pyarrow]\n",
       "TimeControl             string[pyarrow]\n",
       "movetext                string[pyarrow]\n",
       "dtype: object"
      ]
     },
     "execution_count": 4,
     "metadata": {},
     "output_type": "execute_result"
    }
   ],
   "source": [
    "print(len(ddf))\n",
    "ddf.dtypes"
   ]
  },
  {
   "cell_type": "code",
   "execution_count": 5,
   "metadata": {},
   "outputs": [
    {
     "data": {
      "text/html": [
       "<div>\n",
       "<style scoped>\n",
       "    .dataframe tbody tr th:only-of-type {\n",
       "        vertical-align: middle;\n",
       "    }\n",
       "\n",
       "    .dataframe tbody tr th {\n",
       "        vertical-align: top;\n",
       "    }\n",
       "\n",
       "    .dataframe thead th {\n",
       "        text-align: right;\n",
       "    }\n",
       "</style>\n",
       "<table border=\"1\" class=\"dataframe\">\n",
       "  <thead>\n",
       "    <tr style=\"text-align: right;\">\n",
       "      <th></th>\n",
       "      <th>Result</th>\n",
       "      <th>WhiteElo</th>\n",
       "      <th>BlackElo</th>\n",
       "      <th>WhiteRatingDiff</th>\n",
       "      <th>BlackRatingDiff</th>\n",
       "    </tr>\n",
       "  </thead>\n",
       "  <tbody>\n",
       "    <tr>\n",
       "      <th>count</th>\n",
       "      <td>16683989.00</td>\n",
       "      <td>16683989.00</td>\n",
       "      <td>16683989.00</td>\n",
       "      <td>16683989.00</td>\n",
       "      <td>16683989.00</td>\n",
       "    </tr>\n",
       "    <tr>\n",
       "      <th>mean</th>\n",
       "      <td>0.54</td>\n",
       "      <td>1654.80</td>\n",
       "      <td>1654.73</td>\n",
       "      <td>-0.22</td>\n",
       "      <td>-0.65</td>\n",
       "    </tr>\n",
       "    <tr>\n",
       "      <th>std</th>\n",
       "      <td>0.57</td>\n",
       "      <td>391.68</td>\n",
       "      <td>391.80</td>\n",
       "      <td>21.05</td>\n",
       "      <td>19.17</td>\n",
       "    </tr>\n",
       "    <tr>\n",
       "      <th>min</th>\n",
       "      <td>0.00</td>\n",
       "      <td>400.00</td>\n",
       "      <td>400.00</td>\n",
       "      <td>-700.00</td>\n",
       "      <td>-700.00</td>\n",
       "    </tr>\n",
       "    <tr>\n",
       "      <th>25%</th>\n",
       "      <td>0.00</td>\n",
       "      <td>1399.00</td>\n",
       "      <td>1398.00</td>\n",
       "      <td>-6.00</td>\n",
       "      <td>-6.00</td>\n",
       "    </tr>\n",
       "    <tr>\n",
       "      <th>50%</th>\n",
       "      <td>1.00</td>\n",
       "      <td>1680.00</td>\n",
       "      <td>1680.00</td>\n",
       "      <td>1.00</td>\n",
       "      <td>-1.00</td>\n",
       "    </tr>\n",
       "    <tr>\n",
       "      <th>75%</th>\n",
       "      <td>1.00</td>\n",
       "      <td>1938.00</td>\n",
       "      <td>1938.00</td>\n",
       "      <td>6.00</td>\n",
       "      <td>6.00</td>\n",
       "    </tr>\n",
       "    <tr>\n",
       "      <th>max</th>\n",
       "      <td>2.00</td>\n",
       "      <td>3360.00</td>\n",
       "      <td>3362.00</td>\n",
       "      <td>700.00</td>\n",
       "      <td>700.00</td>\n",
       "    </tr>\n",
       "  </tbody>\n",
       "</table>\n",
       "</div>"
      ],
      "text/plain": [
       "           Result    WhiteElo    BlackElo  WhiteRatingDiff  BlackRatingDiff\n",
       "count 16683989.00 16683989.00 16683989.00      16683989.00      16683989.00\n",
       "mean         0.54     1654.80     1654.73            -0.22            -0.65\n",
       "std          0.57      391.68      391.80            21.05            19.17\n",
       "min          0.00      400.00      400.00          -700.00          -700.00\n",
       "25%          0.00     1399.00     1398.00            -6.00            -6.00\n",
       "50%          1.00     1680.00     1680.00             1.00            -1.00\n",
       "75%          1.00     1938.00     1938.00             6.00             6.00\n",
       "max          2.00     3360.00     3362.00           700.00           700.00"
      ]
     },
     "execution_count": 5,
     "metadata": {},
     "output_type": "execute_result"
    }
   ],
   "source": [
    "import pandas as pd\n",
    "\n",
    "\n",
    "pd.options.display.float_format = '{:.2f}'.format\n",
    "\n",
    "numeric_columns = ddf.select_dtypes(include=['number'])\n",
    "numeric_columns.describe().compute()\n"
   ]
  },
  {
   "cell_type": "markdown",
   "metadata": {},
   "source": [
    "Powyższe statystyki możemy sobie zwizualizować, wykresy rozkłady Elo oraz wyników: "
   ]
  },
  {
   "cell_type": "code",
   "execution_count": 6,
   "metadata": {},
   "outputs": [
    {
     "data": {
      "image/png": "[encoded data removed]",
      "text/plain": [
       "<Figure size 1000x600 with 1 Axes>"
      ]
     },
     "metadata": {},
     "output_type": "display_data"
    }
   ],
   "source": [
    "import matplotlib.pyplot as plt\n",
    "import seaborn as sns\n",
    "\n",
    "df = ddf[['WhiteElo', 'BlackElo']].compute()\n",
    "\n",
    "plt.figure(figsize=(10, 6))\n",
    "sns.histplot(df['WhiteElo'], kde=True, color='blue', label='White Elo', bins=50)\n",
    "sns.histplot(df['BlackElo'], kde=True, color='orange', label='Black Elo', bins=50)\n",
    "plt.title('Rozkład wartości Elo', fontsize=16)\n",
    "plt.xlabel('Ranking Elo', fontsize=14)\n",
    "plt.ylabel('Liczba graczy', fontsize=14)\n",
    "plt.legend(fontsize=12)\n",
    "plt.grid(axis='y', linestyle='--', alpha=0.7)\n",
    "plt.show()\n"
   ]
  },
  {
   "cell_type": "code",
   "execution_count": 7,
   "metadata": {},
   "outputs": [
    {
     "data": {
      "image/png": "[encoded data removed]",
      "text/plain": [
       "<Figure size 800x600 with 1 Axes>"
      ]
     },
     "metadata": {},
     "output_type": "display_data"
    }
   ],
   "source": [
    "df_results = ddf['Result'].compute()\n",
    "\n",
    "plt.figure(figsize=(8, 6))\n",
    "sns.histplot(df_results, bins=[-0.5, 0.5, 1.5, 2.5], kde=False, color='green', discrete=True)\n",
    "plt.title('Rozkład wyników gier', fontsize=16)\n",
    "plt.xticks(ticks=[-1, 0, 1], labels=['Black Wins', 'Draw', 'White Wins'], fontsize=12)\n",
    "plt.xlabel('Wynik gry', fontsize=14)\n",
    "plt.ylabel('Liczba gier', fontsize=14)\n",
    "plt.grid(axis='y', linestyle='--', alpha=0.7)\n",
    "plt.show()\n"
   ]
  },
  {
   "cell_type": "code",
   "execution_count": 8,
   "metadata": {},
   "outputs": [
    {
     "data": {
      "text/html": [
       "<div>\n",
       "<style scoped>\n",
       "    .dataframe tbody tr th:only-of-type {\n",
       "        vertical-align: middle;\n",
       "    }\n",
       "\n",
       "    .dataframe tbody tr th {\n",
       "        vertical-align: top;\n",
       "    }\n",
       "\n",
       "    .dataframe thead th {\n",
       "        text-align: right;\n",
       "    }\n",
       "</style>\n",
       "<table border=\"1\" class=\"dataframe\">\n",
       "  <thead>\n",
       "    <tr style=\"text-align: right;\">\n",
       "      <th></th>\n",
       "      <th>Result</th>\n",
       "      <th>WhiteElo</th>\n",
       "      <th>BlackElo</th>\n",
       "      <th>WhiteRatingDiff</th>\n",
       "      <th>BlackRatingDiff</th>\n",
       "    </tr>\n",
       "  </thead>\n",
       "  <tbody>\n",
       "    <tr>\n",
       "      <th>Result</th>\n",
       "      <td>1.00</td>\n",
       "      <td>-0.01</td>\n",
       "      <td>0.04</td>\n",
       "      <td>-0.33</td>\n",
       "      <td>0.35</td>\n",
       "    </tr>\n",
       "    <tr>\n",
       "      <th>WhiteElo</th>\n",
       "      <td>-0.01</td>\n",
       "      <td>1.00</td>\n",
       "      <td>0.96</td>\n",
       "      <td>0.01</td>\n",
       "      <td>0.03</td>\n",
       "    </tr>\n",
       "    <tr>\n",
       "      <th>BlackElo</th>\n",
       "      <td>0.04</td>\n",
       "      <td>0.96</td>\n",
       "      <td>1.00</td>\n",
       "      <td>0.03</td>\n",
       "      <td>0.01</td>\n",
       "    </tr>\n",
       "    <tr>\n",
       "      <th>WhiteRatingDiff</th>\n",
       "      <td>-0.33</td>\n",
       "      <td>0.01</td>\n",
       "      <td>0.03</td>\n",
       "      <td>1.00</td>\n",
       "      <td>-0.23</td>\n",
       "    </tr>\n",
       "    <tr>\n",
       "      <th>BlackRatingDiff</th>\n",
       "      <td>0.35</td>\n",
       "      <td>0.03</td>\n",
       "      <td>0.01</td>\n",
       "      <td>-0.23</td>\n",
       "      <td>1.00</td>\n",
       "    </tr>\n",
       "  </tbody>\n",
       "</table>\n",
       "</div>"
      ],
      "text/plain": [
       "                 Result  WhiteElo  BlackElo  WhiteRatingDiff  BlackRatingDiff\n",
       "Result             1.00     -0.01      0.04            -0.33             0.35\n",
       "WhiteElo          -0.01      1.00      0.96             0.01             0.03\n",
       "BlackElo           0.04      0.96      1.00             0.03             0.01\n",
       "WhiteRatingDiff   -0.33      0.01      0.03             1.00            -0.23\n",
       "BlackRatingDiff    0.35      0.03      0.01            -0.23             1.00"
      ]
     },
     "execution_count": 8,
     "metadata": {},
     "output_type": "execute_result"
    }
   ],
   "source": [
    "numeric_ddf = ddf.select_dtypes(include=['number'])\n",
    "correlation_matrix = numeric_ddf.corr().compute()\n",
    "correlation_matrix"
   ]
  },
  {
   "cell_type": "markdown",
   "metadata": {},
   "source": [
    "Dodamy kolumnę z liczbą ruchów, żeby nie musieć tego liczyć za każdym razem."
   ]
  },
  {
   "cell_type": "code",
   "execution_count": 9,
   "metadata": {},
   "outputs": [],
   "source": [
    "import re\n",
    "\n",
    "\n",
    "def count_moves(movetext):\n",
    "    if pd.isnull(movetext) or movetext.strip() == \"\":\n",
    "        return 0\n",
    "    return len(re.findall(r'\\d+\\.', movetext))\n",
    "\n",
    "ddf['Moves'] = ddf['movetext'].map(count_moves, meta=('Moves', 'int'))"
   ]
  },
  {
   "cell_type": "code",
   "execution_count": 10,
   "metadata": {},
   "outputs": [
    {
     "name": "stdout",
     "output_type": "stream",
     "text": [
      "               Event                          Site           White  \\\n",
      "0  Rated Bullet game  https://lichess.org/8PwzdhWe   alphazero2045   \n",
      "1  Rated Bullet game  https://lichess.org/RbcEq0ws       Julochen2   \n",
      "2  Rated Bullet game  https://lichess.org/8zWyGLBF    morocco-2018   \n",
      "3  Rated Bullet game  https://lichess.org/ZxDr8SVV  wizzardcarlser   \n",
      "4   Rated Rapid game  https://lichess.org/t6ORyme0        Pirate91   \n",
      "\n",
      "                Black  Result WhiteTitle BlackTitle  WhiteElo  BlackElo  \\\n",
      "0  Lamazukamba2555-17       0       None       None      2051      1966   \n",
      "1        Rasscolnikov       1       None       None      1775      1838   \n",
      "2       Youssef686587       1       None       None      1715      1729   \n",
      "3      TacticalMonkey       1       None       None      2670      2758   \n",
      "4              mzhadi       0       None       None      1204      1222   \n",
      "\n",
      "   WhiteRatingDiff  BlackRatingDiff     UTCDate   UTCTime  ECO  \\\n",
      "0             5.00            -4.00  2024-12-01  00:00:10  A40   \n",
      "1            -7.00             5.00  2024-12-01  00:00:10  B01   \n",
      "2            -6.00             5.00  2024-12-01  00:00:10  D31   \n",
      "3            -4.00             4.00  2024-12-01  00:00:10  A40   \n",
      "4             6.00            -7.00  2024-12-01  00:00:10  A43   \n",
      "\n",
      "                                             Opening   Termination  \\\n",
      "0                                    English Defense  Time forfeit   \n",
      "1                    Scandinavian Defense: Main Line  Time forfeit   \n",
      "2  Queen's Gambit Declined: Queen's Knight Variation  Time forfeit   \n",
      "3                  Queen's Pawn Game: Modern Defense        Normal   \n",
      "4                         Benoni Defense: Old Benoni  Time forfeit   \n",
      "\n",
      "  TimeControl                                           movetext  Moves  \n",
      "0        60+0  1. d4 { [%clk 0:01:00] } 1... b6 { [%clk 0:01:...     99  \n",
      "1        60+0  1. e4 { [%clk 0:01:00] } 1... d5 { [%clk 0:01:...     34  \n",
      "2        60+0  1. d4 { [%clk 0:01:00] } 1... e6 { [%clk 0:01:...     90  \n",
      "3        30+0  1. d4 { [%clk 0:00:30] } 1... g6 { [%clk 0:00:...     56  \n",
      "4       600+0  1. d4 { [%clk 0:10:00] } 1... c5 { [%clk 0:10:...     69  \n"
     ]
    }
   ],
   "source": [
    "print(ddf.head())"
   ]
  },
  {
   "cell_type": "code",
   "execution_count": 11,
   "metadata": {},
   "outputs": [
    {
     "name": "stdout",
     "output_type": "stream",
     "text": [
      "Liczba szybkich remisów: 0\n",
      "Liczba anomalii (bardzo mało/dużo ruchów): 255467\n"
     ]
    }
   ],
   "source": [
    "quick_draws = ddf[(ddf['Moves'] < 20) & (ddf['Result'] == '1/2-1/2')]\n",
    "print(f\"Liczba szybkich remisów: {quick_draws.shape[0].compute()}\")\n",
    "\n",
    "anomalies = ddf[(ddf['Moves'] < 5) | (ddf['Moves'] > 200)]\n",
    "print(f\"Liczba anomalii (bardzo mało/dużo ruchów): {anomalies.shape[0].compute()}\")"
   ]
  },
  {
   "cell_type": "code",
   "execution_count": 12,
   "metadata": {},
   "outputs": [
    {
     "name": "stderr",
     "output_type": "stream",
     "text": [
      "2025-01-22 01:04:15,539 - distributed.shuffle._scheduler_plugin - WARNING - Shuffle 3362efadebdbe7d6f175c9b81a04cf40 initialized by task ('shuffle-transfer-3362efadebdbe7d6f175c9b81a04cf40', 11) executed on worker tcp://127.0.0.1:52455\n",
      "2025-01-22 01:04:17,167 - distributed.shuffle._scheduler_plugin - WARNING - Shuffle 3362efadebdbe7d6f175c9b81a04cf40 deactivated due to stimulus 'task-finished-1737504257.1656928'\n"
     ]
    },
    {
     "name": "stdout",
     "output_type": "stream",
     "text": [
      "Najpopularniejsze otwarcia:\n",
      "\n"
     ]
    },
    {
     "data": {
      "text/html": [
       "<div>\n",
       "<style scoped>\n",
       "    .dataframe tbody tr th:only-of-type {\n",
       "        vertical-align: middle;\n",
       "    }\n",
       "\n",
       "    .dataframe tbody tr th {\n",
       "        vertical-align: top;\n",
       "    }\n",
       "\n",
       "    .dataframe thead th {\n",
       "        text-align: right;\n",
       "    }\n",
       "</style>\n",
       "<table border=\"1\" class=\"dataframe\">\n",
       "  <thead>\n",
       "    <tr style=\"text-align: right;\">\n",
       "      <th></th>\n",
       "      <th>ECO</th>\n",
       "      <th>Opening</th>\n",
       "      <th>Count</th>\n",
       "    </tr>\n",
       "  </thead>\n",
       "  <tbody>\n",
       "    <tr>\n",
       "      <th>1539</th>\n",
       "      <td>A00</td>\n",
       "      <td>Van't Kruijs Opening</td>\n",
       "      <td>303649</td>\n",
       "    </tr>\n",
       "    <tr>\n",
       "      <th>2384</th>\n",
       "      <td>C41</td>\n",
       "      <td>Philidor Defense</td>\n",
       "      <td>274159</td>\n",
       "    </tr>\n",
       "    <tr>\n",
       "      <th>350</th>\n",
       "      <td>B06</td>\n",
       "      <td>Modern Defense</td>\n",
       "      <td>269538</td>\n",
       "    </tr>\n",
       "    <tr>\n",
       "      <th>384</th>\n",
       "      <td>B10</td>\n",
       "      <td>Caro-Kann Defense</td>\n",
       "      <td>266352</td>\n",
       "    </tr>\n",
       "    <tr>\n",
       "      <th>2642</th>\n",
       "      <td>D00</td>\n",
       "      <td>Queen's Pawn Game: Accelerated London System</td>\n",
       "      <td>258910</td>\n",
       "    </tr>\n",
       "    <tr>\n",
       "      <th>587</th>\n",
       "      <td>C00</td>\n",
       "      <td>French Defense: Knight Variation</td>\n",
       "      <td>234264</td>\n",
       "    </tr>\n",
       "    <tr>\n",
       "      <th>307</th>\n",
       "      <td>B01</td>\n",
       "      <td>Scandinavian Defense</td>\n",
       "      <td>232581</td>\n",
       "    </tr>\n",
       "    <tr>\n",
       "      <th>2641</th>\n",
       "      <td>D00</td>\n",
       "      <td>Queen's Pawn Game</td>\n",
       "      <td>232114</td>\n",
       "    </tr>\n",
       "    <tr>\n",
       "      <th>300</th>\n",
       "      <td>B00</td>\n",
       "      <td>Pirc Defense</td>\n",
       "      <td>225447</td>\n",
       "    </tr>\n",
       "    <tr>\n",
       "      <th>1680</th>\n",
       "      <td>A40</td>\n",
       "      <td>Horwitz Defense</td>\n",
       "      <td>223937</td>\n",
       "    </tr>\n",
       "  </tbody>\n",
       "</table>\n",
       "</div>"
      ],
      "text/plain": [
       "      ECO                                       Opening   Count\n",
       "1539  A00                          Van't Kruijs Opening  303649\n",
       "2384  C41                              Philidor Defense  274159\n",
       "350   B06                                Modern Defense  269538\n",
       "384   B10                             Caro-Kann Defense  266352\n",
       "2642  D00  Queen's Pawn Game: Accelerated London System  258910\n",
       "587   C00              French Defense: Knight Variation  234264\n",
       "307   B01                          Scandinavian Defense  232581\n",
       "2641  D00                             Queen's Pawn Game  232114\n",
       "300   B00                                  Pirc Defense  225447\n",
       "1680  A40                               Horwitz Defense  223937"
      ]
     },
     "execution_count": 12,
     "metadata": {},
     "output_type": "execute_result"
    }
   ],
   "source": [
    "opening_counts = ddf.groupby(['ECO', 'Opening']).size().compute().reset_index(name='Count')\n",
    "opening_counts = opening_counts.sort_values(by='Count', ascending=False)\n",
    "\n",
    "print(\"Najpopularniejsze otwarcia:\\n\")\n",
    "opening_counts.head(10)\n"
   ]
  },
  {
   "cell_type": "markdown",
   "metadata": {},
   "source": [
    "# Etap 3 - trening modelu ML\n",
    "\n",
    "Wybrany model to klasyfikacja wyniku gry na podstawie podanych cech ('WhiteElo', 'BlackElo', 'ECO', 'TimeControl', 'Termination')"
   ]
  },
  {
   "cell_type": "code",
   "execution_count": 13,
   "metadata": {},
   "outputs": [
    {
     "name": "stderr",
     "output_type": "stream",
     "text": [
      "c:\\Users\\karol\\GitHub\\analiza_duzych_zbiorow_danych\\.venv\\Lib\\site-packages\\dask_ml\\model_selection\\_split.py:464: FutureWarning: The default value for 'shuffle' must be specified when splitting DataFrames. In the future DataFrames will automatically be shuffled within blocks prior to splitting. Specify 'shuffle=True' to adopt the future behavior now, or 'shuffle=False' to retain the previous behavior.\n",
      "  warnings.warn(\n"
     ]
    },
    {
     "name": "stdout",
     "output_type": "stream",
     "text": [
      "Rozmiar X_train: 13348077\n",
      "Rozmiar y_train: 13346395\n",
      "Rozmiar X_test: 3335912\n",
      "Rozmiar y_test: 3337594\n"
     ]
    },
    {
     "name": "stderr",
     "output_type": "stream",
     "text": [
      "c:\\Users\\karol\\GitHub\\analiza_duzych_zbiorow_danych\\.venv\\Lib\\site-packages\\xgboost\\core.py:158: UserWarning: [01:04:47] WARNING: C:\\buildkite-agent\\builds\\buildkite-windows-cpu-autoscaling-group-i-0ed59c031377d09b8-1\\xgboost\\xgboost-ci-windows\\src\\learner.cc:740: \n",
      "Parameters: { \"use_label_encoder\" } are not used.\n",
      "\n",
      "  warnings.warn(smsg, UserWarning)\n"
     ]
    }
   ],
   "source": [
    "import dask.dataframe as dd\n",
    "from dask_ml.model_selection import train_test_split\n",
    "from dask.distributed import Client\n",
    "from xgboost import XGBClassifier\n",
    "from sklearn.metrics import accuracy_score, classification_report\n",
    "\n",
    "\n",
    "X = ddf[['WhiteElo', 'BlackElo', 'ECO', 'TimeControl', 'Termination']]\n",
    "y = ddf['Result'].astype('int')\n",
    "\n",
    "X['ECO'] = X['ECO'].astype('category')\n",
    "X['TimeControl'] = X['TimeControl'].astype('category')\n",
    "X['Termination'] = X['Termination'].astype('category')\n",
    "\n",
    "X_train, X_test, y_train, y_test = train_test_split(X, y, test_size=0.2, random_state=42)\n",
    "print(\"Rozmiar X_train:\", len(X_train))\n",
    "print(\"Rozmiar y_train:\", len(y_train))\n",
    "print(\"Rozmiar X_test:\", len(X_test))\n",
    "print(\"Rozmiar y_test:\", len(y_test))\n",
    "\n",
    "X_train_pd = X_train.compute()\n",
    "y_train_pd = y_train.compute()\n",
    "X_test_pd = X_test.compute()\n",
    "y_test_pd = y_test.compute()\n",
    "\n",
    "X_train_pd = X_train.compute().reset_index(drop=True)\n",
    "y_train_pd = y_train.compute().reset_index(drop=True)\n",
    "min_length = min(len(X_train_pd), len(y_train_pd))\n",
    "X_train_pd = X_train_pd.iloc[:min_length]\n",
    "y_train_pd = y_train_pd.iloc[:min_length]\n",
    "\n",
    "\n",
    "model = XGBClassifier(n_estimators=100, use_label_encoder=False, eval_metric='mlogloss', enable_categorical=True)\n",
    "model.fit(X_train_pd, y_train_pd)\n",
    "\n",
    "y_pred = model.predict(X_test_pd)\n",
    "\n",
    "min_length = min(len(y_test.compute()), len(y_pred))\n",
    "y_test_trimmed = y_test.compute()[:min_length]\n",
    "y_pred_trimmed = y_pred[:min_length]\n"
   ]
  },
  {
   "cell_type": "code",
   "execution_count": 14,
   "metadata": {},
   "outputs": [
    {
     "name": "stdout",
     "output_type": "stream",
     "text": [
      "Dokładność modelu: 0.50\n",
      "\n",
      "Raport klasyfikacji:\n",
      "              precision    recall  f1-score   support\n",
      "\n",
      "           0       0.50      0.98      0.66   1659481\n",
      "           1       0.47      0.03      0.05   1546636\n",
      "           2       0.05      0.00      0.00    129795\n",
      "\n",
      "    accuracy                           0.50   3335912\n",
      "   macro avg       0.34      0.33      0.24   3335912\n",
      "weighted avg       0.47      0.50      0.35   3335912\n",
      "\n"
     ]
    }
   ],
   "source": [
    "from sklearn.metrics import accuracy_score\n",
    "\n",
    "\n",
    "print(f\"Dokładność modelu: {accuracy_score(y_test_trimmed, y_pred_trimmed):.2f}\")\n",
    "print(\"\\nRaport klasyfikacji:\")\n",
    "print(classification_report(y_test_trimmed, y_pred_trimmed))"
   ]
  }
 ],
 "metadata": {
  "kernelspec": {
   "display_name": ".venv",
   "language": "python",
   "name": "python3"
  },
  "language_info": {
   "codemirror_mode": {
    "name": "ipython",
    "version": 3
   },
   "file_extension": ".py",
   "mimetype": "text/x-python",
   "name": "python",
   "nbconvert_exporter": "python",
   "pygments_lexer": "ipython3",
   "version": "3.12.2"
  }
 },
 "nbformat": 4,
 "nbformat_minor": 2
}
